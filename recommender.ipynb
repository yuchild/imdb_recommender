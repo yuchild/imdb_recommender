{
 "cells": [
  {
   "cell_type": "code",
   "execution_count": 1,
   "metadata": {},
   "outputs": [],
   "source": [
    "import pandas as pd\n",
    "import numpy as np\n",
    "import matplotlib.pyplot as plt\n",
    "plt.style.use('fivethirtyeight')\n",
    "\n",
    "import tensorflow as tf\n",
    "from tensorflow import keras\n",
    "from tensorflow.keras import layers"
   ]
  },
  {
   "cell_type": "code",
   "execution_count": 2,
   "metadata": {
    "scrolled": true
   },
   "outputs": [
    {
     "data": {
      "text/html": [
       "<div>\n",
       "<style scoped>\n",
       "    .dataframe tbody tr th:only-of-type {\n",
       "        vertical-align: middle;\n",
       "    }\n",
       "\n",
       "    .dataframe tbody tr th {\n",
       "        vertical-align: top;\n",
       "    }\n",
       "\n",
       "    .dataframe thead th {\n",
       "        text-align: right;\n",
       "    }\n",
       "</style>\n",
       "<table border=\"1\" class=\"dataframe\">\n",
       "  <thead>\n",
       "    <tr style=\"text-align: right;\">\n",
       "      <th></th>\n",
       "      <th>imdb_title_id</th>\n",
       "      <th>title</th>\n",
       "      <th>original_title</th>\n",
       "      <th>year</th>\n",
       "      <th>date_published</th>\n",
       "      <th>genre</th>\n",
       "      <th>duration</th>\n",
       "      <th>country</th>\n",
       "      <th>language</th>\n",
       "      <th>director</th>\n",
       "      <th>...</th>\n",
       "      <th>actors</th>\n",
       "      <th>description</th>\n",
       "      <th>avg_vote</th>\n",
       "      <th>votes</th>\n",
       "      <th>budget</th>\n",
       "      <th>usa_gross_income</th>\n",
       "      <th>worlwide_gross_income</th>\n",
       "      <th>metascore</th>\n",
       "      <th>reviews_from_users</th>\n",
       "      <th>reviews_from_critics</th>\n",
       "    </tr>\n",
       "  </thead>\n",
       "  <tbody>\n",
       "    <tr>\n",
       "      <th>13507</th>\n",
       "      <td>tt0063013</td>\n",
       "      <td>Nuda sotto la pelle</td>\n",
       "      <td>The Girl on a Motorcycle</td>\n",
       "      <td>1968</td>\n",
       "      <td>1969</td>\n",
       "      <td>Drama, Romance</td>\n",
       "      <td>91</td>\n",
       "      <td>UK, France</td>\n",
       "      <td>English</td>\n",
       "      <td>Jack Cardiff</td>\n",
       "      <td>...</td>\n",
       "      <td>Alain Delon, Marianne Faithfull, Roger Mutton,...</td>\n",
       "      <td>A married woman leaves her husband and zooms o...</td>\n",
       "      <td>5.3</td>\n",
       "      <td>1955</td>\n",
       "      <td>NaN</td>\n",
       "      <td>NaN</td>\n",
       "      <td>NaN</td>\n",
       "      <td>NaN</td>\n",
       "      <td>43.0</td>\n",
       "      <td>43.0</td>\n",
       "    </tr>\n",
       "    <tr>\n",
       "      <th>84935</th>\n",
       "      <td>tt8960204</td>\n",
       "      <td>Asih</td>\n",
       "      <td>Asih</td>\n",
       "      <td>2018</td>\n",
       "      <td>2018-10-11</td>\n",
       "      <td>Horror</td>\n",
       "      <td>77</td>\n",
       "      <td>Indonesia</td>\n",
       "      <td>Indonesian</td>\n",
       "      <td>Awi Suryadi</td>\n",
       "      <td>...</td>\n",
       "      <td>Shareefa Daanish, Citra Kirana, Darius Sinathr...</td>\n",
       "      <td>The origins of a Kuntilanak named \"Asih\", one ...</td>\n",
       "      <td>5.3</td>\n",
       "      <td>156</td>\n",
       "      <td>NaN</td>\n",
       "      <td>NaN</td>\n",
       "      <td>NaN</td>\n",
       "      <td>NaN</td>\n",
       "      <td>4.0</td>\n",
       "      <td>7.0</td>\n",
       "    </tr>\n",
       "    <tr>\n",
       "      <th>2710</th>\n",
       "      <td>tt0029034</td>\n",
       "      <td>I Cover the War!</td>\n",
       "      <td>I Cover the War!</td>\n",
       "      <td>1937</td>\n",
       "      <td>1937-07-04</td>\n",
       "      <td>Action, Drama, Romance</td>\n",
       "      <td>68</td>\n",
       "      <td>USA</td>\n",
       "      <td>English</td>\n",
       "      <td>Arthur Lubin</td>\n",
       "      <td>...</td>\n",
       "      <td>John Wayne, Gwen Gaze, Don Barclay, Charles Br...</td>\n",
       "      <td>Newsreel cameraman Bob Adams heads to North Af...</td>\n",
       "      <td>6.2</td>\n",
       "      <td>135</td>\n",
       "      <td>$ 70000</td>\n",
       "      <td>NaN</td>\n",
       "      <td>NaN</td>\n",
       "      <td>NaN</td>\n",
       "      <td>6.0</td>\n",
       "      <td>1.0</td>\n",
       "    </tr>\n",
       "    <tr>\n",
       "      <th>36426</th>\n",
       "      <td>tt0208178</td>\n",
       "      <td>Moonlight Whispers</td>\n",
       "      <td>Gekkô no sasayaki</td>\n",
       "      <td>1999</td>\n",
       "      <td>2000-12-23</td>\n",
       "      <td>Drama, Romance</td>\n",
       "      <td>100</td>\n",
       "      <td>Japan</td>\n",
       "      <td>Japanese</td>\n",
       "      <td>Akihiko Shiota</td>\n",
       "      <td>...</td>\n",
       "      <td>Kenji Mizuhashi, Tsugumi, Kôta Kusano, Harumi ...</td>\n",
       "      <td>Two seemingly innocent school kids are obsesse...</td>\n",
       "      <td>6.9</td>\n",
       "      <td>747</td>\n",
       "      <td>NaN</td>\n",
       "      <td>NaN</td>\n",
       "      <td>NaN</td>\n",
       "      <td>57.0</td>\n",
       "      <td>10.0</td>\n",
       "      <td>11.0</td>\n",
       "    </tr>\n",
       "    <tr>\n",
       "      <th>832</th>\n",
       "      <td>tt0020570</td>\n",
       "      <td>La tragedia di Pizzo Palù</td>\n",
       "      <td>Die weiße Hölle vom Piz Palü</td>\n",
       "      <td>1929</td>\n",
       "      <td>1930</td>\n",
       "      <td>Action, Adventure, Drama</td>\n",
       "      <td>150</td>\n",
       "      <td>Germany</td>\n",
       "      <td>German</td>\n",
       "      <td>Arnold Fanck, Georg Wilhelm Pabst</td>\n",
       "      <td>...</td>\n",
       "      <td>Gustav Diessl, Leni Riefenstahl, Ernst Peterse...</td>\n",
       "      <td>A man climbs a 12,000-foot mountain to search ...</td>\n",
       "      <td>7.2</td>\n",
       "      <td>882</td>\n",
       "      <td>NaN</td>\n",
       "      <td>NaN</td>\n",
       "      <td>NaN</td>\n",
       "      <td>NaN</td>\n",
       "      <td>17.0</td>\n",
       "      <td>8.0</td>\n",
       "    </tr>\n",
       "  </tbody>\n",
       "</table>\n",
       "<p>5 rows × 22 columns</p>\n",
       "</div>"
      ],
      "text/plain": [
       "      imdb_title_id                      title                original_title  \\\n",
       "13507     tt0063013        Nuda sotto la pelle      The Girl on a Motorcycle   \n",
       "84935     tt8960204                       Asih                          Asih   \n",
       "2710      tt0029034           I Cover the War!              I Cover the War!   \n",
       "36426     tt0208178         Moonlight Whispers             Gekkô no sasayaki   \n",
       "832       tt0020570  La tragedia di Pizzo Palù  Die weiße Hölle vom Piz Palü   \n",
       "\n",
       "       year date_published                     genre  duration     country  \\\n",
       "13507  1968           1969            Drama, Romance        91  UK, France   \n",
       "84935  2018     2018-10-11                    Horror        77   Indonesia   \n",
       "2710   1937     1937-07-04    Action, Drama, Romance        68         USA   \n",
       "36426  1999     2000-12-23            Drama, Romance       100       Japan   \n",
       "832    1929           1930  Action, Adventure, Drama       150     Germany   \n",
       "\n",
       "         language                           director  ...  \\\n",
       "13507     English                       Jack Cardiff  ...   \n",
       "84935  Indonesian                        Awi Suryadi  ...   \n",
       "2710      English                       Arthur Lubin  ...   \n",
       "36426    Japanese                     Akihiko Shiota  ...   \n",
       "832        German  Arnold Fanck, Georg Wilhelm Pabst  ...   \n",
       "\n",
       "                                                  actors  \\\n",
       "13507  Alain Delon, Marianne Faithfull, Roger Mutton,...   \n",
       "84935  Shareefa Daanish, Citra Kirana, Darius Sinathr...   \n",
       "2710   John Wayne, Gwen Gaze, Don Barclay, Charles Br...   \n",
       "36426  Kenji Mizuhashi, Tsugumi, Kôta Kusano, Harumi ...   \n",
       "832    Gustav Diessl, Leni Riefenstahl, Ernst Peterse...   \n",
       "\n",
       "                                             description avg_vote votes  \\\n",
       "13507  A married woman leaves her husband and zooms o...      5.3  1955   \n",
       "84935  The origins of a Kuntilanak named \"Asih\", one ...      5.3   156   \n",
       "2710   Newsreel cameraman Bob Adams heads to North Af...      6.2   135   \n",
       "36426  Two seemingly innocent school kids are obsesse...      6.9   747   \n",
       "832    A man climbs a 12,000-foot mountain to search ...      7.2   882   \n",
       "\n",
       "        budget  usa_gross_income worlwide_gross_income metascore  \\\n",
       "13507      NaN               NaN                   NaN       NaN   \n",
       "84935      NaN               NaN                   NaN       NaN   \n",
       "2710   $ 70000               NaN                   NaN       NaN   \n",
       "36426      NaN               NaN                   NaN      57.0   \n",
       "832        NaN               NaN                   NaN       NaN   \n",
       "\n",
       "      reviews_from_users  reviews_from_critics  \n",
       "13507               43.0                  43.0  \n",
       "84935                4.0                   7.0  \n",
       "2710                 6.0                   1.0  \n",
       "36426               10.0                  11.0  \n",
       "832                 17.0                   8.0  \n",
       "\n",
       "[5 rows x 22 columns]"
      ]
     },
     "execution_count": 2,
     "metadata": {},
     "output_type": "execute_result"
    }
   ],
   "source": [
    "# data set source: https://www.kaggle.com/stefanoleone992/imdb-extensive-dataset\n",
    "movies_df = pd.read_csv('./data/IMDb_movies.csv'\n",
    "                        , low_memory = False\n",
    "                       )\n",
    "movies_df.sample(5)"
   ]
  },
  {
   "cell_type": "code",
   "execution_count": 3,
   "metadata": {},
   "outputs": [
    {
     "data": {
      "text/plain": [
       "(85855, 22)"
      ]
     },
     "execution_count": 3,
     "metadata": {},
     "output_type": "execute_result"
    }
   ],
   "source": [
    "movies_df.shape"
   ]
  },
  {
   "cell_type": "code",
   "execution_count": 4,
   "metadata": {
    "scrolled": true
   },
   "outputs": [
    {
     "name": "stdout",
     "output_type": "stream",
     "text": [
      "imdb_title_id\n",
      "title\n",
      "original_title\n",
      "year\n",
      "date_published\n",
      "genre\n",
      "duration\n",
      "country\n",
      "language\n",
      "director\n",
      "writer\n",
      "production_company\n",
      "actors\n",
      "description\n",
      "avg_vote\n",
      "votes\n",
      "budget\n",
      "usa_gross_income\n",
      "worlwide_gross_income\n",
      "metascore\n",
      "reviews_from_users\n",
      "reviews_from_critics\n"
     ]
    }
   ],
   "source": [
    "for x in movies_df.columns:\n",
    "    print(x)"
   ]
  },
  {
   "cell_type": "code",
   "execution_count": 5,
   "metadata": {},
   "outputs": [
    {
     "data": {
      "text/plain": [
       "'Blanche Bayliss, William Courtenay, Chauncey Depew'"
      ]
     },
     "execution_count": 5,
     "metadata": {},
     "output_type": "execute_result"
    }
   ],
   "source": [
    "movies_df.actors.iloc[0]"
   ]
  },
  {
   "cell_type": "code",
   "execution_count": 6,
   "metadata": {},
   "outputs": [
    {
     "data": {
      "text/plain": [
       "nan"
      ]
     },
     "execution_count": 6,
     "metadata": {},
     "output_type": "execute_result"
    }
   ],
   "source": [
    "movies_df.metascore.iloc[0]"
   ]
  },
  {
   "cell_type": "code",
   "execution_count": 7,
   "metadata": {},
   "outputs": [
    {
     "data": {
      "text/plain": [
       "1.0"
      ]
     },
     "execution_count": 7,
     "metadata": {},
     "output_type": "execute_result"
    }
   ],
   "source": [
    "movies_df.reviews_from_users.iloc[0]"
   ]
  },
  {
   "cell_type": "code",
   "execution_count": 8,
   "metadata": {},
   "outputs": [
    {
     "data": {
      "text/plain": [
       "2.0"
      ]
     },
     "execution_count": 8,
     "metadata": {},
     "output_type": "execute_result"
    }
   ],
   "source": [
    "movies_df.reviews_from_critics.iloc[0]"
   ]
  },
  {
   "cell_type": "code",
   "execution_count": 9,
   "metadata": {},
   "outputs": [
    {
     "data": {
      "text/plain": [
       "imdb_title_id                0\n",
       "title                        0\n",
       "original_title               0\n",
       "year                         0\n",
       "date_published               0\n",
       "genre                        0\n",
       "duration                     0\n",
       "country                     64\n",
       "language                   833\n",
       "director                    87\n",
       "writer                    1572\n",
       "production_company        4455\n",
       "actors                      69\n",
       "description               2115\n",
       "avg_vote                     0\n",
       "votes                        0\n",
       "budget                   62145\n",
       "usa_gross_income         70529\n",
       "worlwide_gross_income    54839\n",
       "metascore                72550\n",
       "reviews_from_users        7597\n",
       "reviews_from_critics     11797\n",
       "dtype: int64"
      ]
     },
     "execution_count": 9,
     "metadata": {},
     "output_type": "execute_result"
    }
   ],
   "source": [
    "movies_df.isna().sum()"
   ]
  },
  {
   "cell_type": "code",
   "execution_count": 10,
   "metadata": {},
   "outputs": [
    {
     "data": {
      "text/plain": [
       "(9.9, 1.0)"
      ]
     },
     "execution_count": 10,
     "metadata": {},
     "output_type": "execute_result"
    }
   ],
   "source": [
    "movies_df.avg_vote.max(), movies_df.avg_vote.min()"
   ]
  },
  {
   "cell_type": "code",
   "execution_count": 11,
   "metadata": {},
   "outputs": [
    {
     "data": {
      "text/plain": [
       "5.9"
      ]
     },
     "execution_count": 11,
     "metadata": {},
     "output_type": "execute_result"
    }
   ],
   "source": [
    "movies_df.avg_vote.iloc[0]"
   ]
  },
  {
   "cell_type": "code",
   "execution_count": 12,
   "metadata": {},
   "outputs": [
    {
     "data": {
      "text/plain": [
       "(9.9, 1.0)"
      ]
     },
     "execution_count": 12,
     "metadata": {},
     "output_type": "execute_result"
    }
   ],
   "source": [
    "movies_df.avg_vote.max(), movies_df.avg_vote.min()"
   ]
  },
  {
   "cell_type": "code",
   "execution_count": 13,
   "metadata": {},
   "outputs": [
    {
     "data": {
      "text/plain": [
       "154"
      ]
     },
     "execution_count": 13,
     "metadata": {},
     "output_type": "execute_result"
    }
   ],
   "source": [
    "movies_df.votes.iloc[0]"
   ]
  },
  {
   "cell_type": "code",
   "execution_count": 24,
   "metadata": {},
   "outputs": [],
   "source": [
    "actor_movie_df = movies_df[['actors', 'title', 'avg_vote']].copy()"
   ]
  },
  {
   "cell_type": "code",
   "execution_count": 25,
   "metadata": {},
   "outputs": [
    {
     "data": {
      "text/html": [
       "<div>\n",
       "<style scoped>\n",
       "    .dataframe tbody tr th:only-of-type {\n",
       "        vertical-align: middle;\n",
       "    }\n",
       "\n",
       "    .dataframe tbody tr th {\n",
       "        vertical-align: top;\n",
       "    }\n",
       "\n",
       "    .dataframe thead th {\n",
       "        text-align: right;\n",
       "    }\n",
       "</style>\n",
       "<table border=\"1\" class=\"dataframe\">\n",
       "  <thead>\n",
       "    <tr style=\"text-align: right;\">\n",
       "      <th></th>\n",
       "      <th>actors</th>\n",
       "      <th>title</th>\n",
       "      <th>avg_vote</th>\n",
       "    </tr>\n",
       "  </thead>\n",
       "  <tbody>\n",
       "    <tr>\n",
       "      <th>0</th>\n",
       "      <td>Blanche Bayliss, William Courtenay, Chauncey D...</td>\n",
       "      <td>Miss Jerry</td>\n",
       "      <td>5.9</td>\n",
       "    </tr>\n",
       "    <tr>\n",
       "      <th>1</th>\n",
       "      <td>Elizabeth Tait, John Tait, Norman Campbell, Be...</td>\n",
       "      <td>The Story of the Kelly Gang</td>\n",
       "      <td>6.1</td>\n",
       "    </tr>\n",
       "    <tr>\n",
       "      <th>2</th>\n",
       "      <td>Asta Nielsen, Valdemar Psilander, Gunnar Helse...</td>\n",
       "      <td>Den sorte drøm</td>\n",
       "      <td>5.8</td>\n",
       "    </tr>\n",
       "    <tr>\n",
       "      <th>3</th>\n",
       "      <td>Helen Gardner, Pearl Sindelar, Miss Fielding, ...</td>\n",
       "      <td>Cleopatra</td>\n",
       "      <td>5.2</td>\n",
       "    </tr>\n",
       "    <tr>\n",
       "      <th>4</th>\n",
       "      <td>Salvatore Papa, Arturo Pirovano, Giuseppe de L...</td>\n",
       "      <td>L'Inferno</td>\n",
       "      <td>7.0</td>\n",
       "    </tr>\n",
       "  </tbody>\n",
       "</table>\n",
       "</div>"
      ],
      "text/plain": [
       "                                              actors  \\\n",
       "0  Blanche Bayliss, William Courtenay, Chauncey D...   \n",
       "1  Elizabeth Tait, John Tait, Norman Campbell, Be...   \n",
       "2  Asta Nielsen, Valdemar Psilander, Gunnar Helse...   \n",
       "3  Helen Gardner, Pearl Sindelar, Miss Fielding, ...   \n",
       "4  Salvatore Papa, Arturo Pirovano, Giuseppe de L...   \n",
       "\n",
       "                         title  avg_vote  \n",
       "0                   Miss Jerry       5.9  \n",
       "1  The Story of the Kelly Gang       6.1  \n",
       "2               Den sorte drøm       5.8  \n",
       "3                    Cleopatra       5.2  \n",
       "4                    L'Inferno       7.0  "
      ]
     },
     "execution_count": 25,
     "metadata": {},
     "output_type": "execute_result"
    }
   ],
   "source": [
    "actor_movie_df.head()"
   ]
  },
  {
   "cell_type": "code",
   "execution_count": 26,
   "metadata": {},
   "outputs": [
    {
     "data": {
      "text/html": [
       "<div>\n",
       "<style scoped>\n",
       "    .dataframe tbody tr th:only-of-type {\n",
       "        vertical-align: middle;\n",
       "    }\n",
       "\n",
       "    .dataframe tbody tr th {\n",
       "        vertical-align: top;\n",
       "    }\n",
       "\n",
       "    .dataframe thead th {\n",
       "        text-align: right;\n",
       "    }\n",
       "</style>\n",
       "<table border=\"1\" class=\"dataframe\">\n",
       "  <thead>\n",
       "    <tr style=\"text-align: right;\">\n",
       "      <th></th>\n",
       "      <th>actors</th>\n",
       "      <th>title</th>\n",
       "      <th>avg_vote</th>\n",
       "    </tr>\n",
       "  </thead>\n",
       "  <tbody>\n",
       "    <tr>\n",
       "      <th>0</th>\n",
       "      <td>Blanche Bayliss</td>\n",
       "      <td>Miss Jerry</td>\n",
       "      <td>5.9</td>\n",
       "    </tr>\n",
       "    <tr>\n",
       "      <th>1</th>\n",
       "      <td>William Courtenay</td>\n",
       "      <td>Miss Jerry</td>\n",
       "      <td>5.9</td>\n",
       "    </tr>\n",
       "    <tr>\n",
       "      <th>2</th>\n",
       "      <td>Chauncey Depew</td>\n",
       "      <td>Miss Jerry</td>\n",
       "      <td>5.9</td>\n",
       "    </tr>\n",
       "    <tr>\n",
       "      <th>3</th>\n",
       "      <td>Elizabeth Tait</td>\n",
       "      <td>The Story of the Kelly Gang</td>\n",
       "      <td>6.1</td>\n",
       "    </tr>\n",
       "    <tr>\n",
       "      <th>4</th>\n",
       "      <td>John Tait</td>\n",
       "      <td>The Story of the Kelly Gang</td>\n",
       "      <td>6.1</td>\n",
       "    </tr>\n",
       "    <tr>\n",
       "      <th>5</th>\n",
       "      <td>Norman Campbell</td>\n",
       "      <td>The Story of the Kelly Gang</td>\n",
       "      <td>6.1</td>\n",
       "    </tr>\n",
       "    <tr>\n",
       "      <th>6</th>\n",
       "      <td>Bella Cola</td>\n",
       "      <td>The Story of the Kelly Gang</td>\n",
       "      <td>6.1</td>\n",
       "    </tr>\n",
       "    <tr>\n",
       "      <th>7</th>\n",
       "      <td>Will Coyne</td>\n",
       "      <td>The Story of the Kelly Gang</td>\n",
       "      <td>6.1</td>\n",
       "    </tr>\n",
       "    <tr>\n",
       "      <th>8</th>\n",
       "      <td>Sam Crewes</td>\n",
       "      <td>The Story of the Kelly Gang</td>\n",
       "      <td>6.1</td>\n",
       "    </tr>\n",
       "    <tr>\n",
       "      <th>9</th>\n",
       "      <td>Jack Ennis</td>\n",
       "      <td>The Story of the Kelly Gang</td>\n",
       "      <td>6.1</td>\n",
       "    </tr>\n",
       "  </tbody>\n",
       "</table>\n",
       "</div>"
      ],
      "text/plain": [
       "              actors                        title  avg_vote\n",
       "0    Blanche Bayliss                   Miss Jerry       5.9\n",
       "1  William Courtenay                   Miss Jerry       5.9\n",
       "2     Chauncey Depew                   Miss Jerry       5.9\n",
       "3     Elizabeth Tait  The Story of the Kelly Gang       6.1\n",
       "4          John Tait  The Story of the Kelly Gang       6.1\n",
       "5    Norman Campbell  The Story of the Kelly Gang       6.1\n",
       "6         Bella Cola  The Story of the Kelly Gang       6.1\n",
       "7         Will Coyne  The Story of the Kelly Gang       6.1\n",
       "8         Sam Crewes  The Story of the Kelly Gang       6.1\n",
       "9         Jack Ennis  The Story of the Kelly Gang       6.1"
      ]
     },
     "execution_count": 26,
     "metadata": {},
     "output_type": "execute_result"
    }
   ],
   "source": [
    "actor_movie_df = actor_movie_df.assign(actors=actor_movie_df.actors.str.split(', ')).explode('actors').reset_index()\n",
    "actor_movie_df.drop('index', axis=1, inplace=True)\n",
    "actor_movie_df.head(10)"
   ]
  },
  {
   "cell_type": "code",
   "execution_count": 27,
   "metadata": {},
   "outputs": [
    {
     "data": {
      "text/plain": [
       "(1155362, 3)"
      ]
     },
     "execution_count": 27,
     "metadata": {},
     "output_type": "execute_result"
    }
   ],
   "source": [
    "# Data set too large for pivot table, use neural networks\n",
    "actor_movie_df.shape"
   ]
  },
  {
   "cell_type": "code",
   "execution_count": 28,
   "metadata": {},
   "outputs": [
    {
     "name": "stdout",
     "output_type": "stream",
     "text": [
      "Actors: 417321\n",
      "Movies: 82094\n",
      "Min Vote: 1.0\n",
      "Max Vote: 9.9\n"
     ]
    }
   ],
   "source": [
    "# encoding...\n",
    "actor_ids = actor_movie_df['actors'].unique().tolist()\n",
    "actor2actor_encoded = {x: i for i, x in enumerate(actor_ids)}\n",
    "actor_encoded2actor = {i: x for i, x in enumerate(actor_ids)}\n",
    "\n",
    "movie_ids = actor_movie_df['title'].unique().tolist()\n",
    "movie2movie_encoded = {x: i for i, x in enumerate(movie_ids)}\n",
    "movie_encoded2movie = {i: x for i, x in enumerate(movie_ids)}\n",
    "\n",
    "actor_movie_df['actors'] = actor_movie_df['actors'].map(actor2actor_encoded)\n",
    "actor_movie_df['title'] = actor_movie_df['title'].map(movie2movie_encoded)\n",
    "\n",
    "num_actors = len(actor2actor_encoded)\n",
    "num_movies = len(movie2movie_encoded)\n",
    "\n",
    "actor_movie_df['avg_vote'] = actor_movie_df['avg_vote'].values.astype(np.float32)\n",
    "\n",
    "min_vote = min(actor_movie_df['avg_vote'])\n",
    "max_vote = max(actor_movie_df['avg_vote'])\n",
    "\n",
    "print(f'Actors: {num_actors}\\nMovies: {num_movies}\\nMin Vote: {min_vote}\\nMax Vote: {round(max_vote, 1)}')"
   ]
  },
  {
   "cell_type": "code",
   "execution_count": 29,
   "metadata": {},
   "outputs": [],
   "source": [
    "# prepare training and valdiation data\n",
    "from random import shuffle\n",
    "idx_lst = [x for x in range(0, actor_movie_df.shape[0])]\n",
    "shuffle(idx_lst)\n",
    "actor_movie_df = actor_movie_df.iloc[idx_lst]"
   ]
  },
  {
   "cell_type": "code",
   "execution_count": 30,
   "metadata": {},
   "outputs": [
    {
     "data": {
      "text/html": [
       "<div>\n",
       "<style scoped>\n",
       "    .dataframe tbody tr th:only-of-type {\n",
       "        vertical-align: middle;\n",
       "    }\n",
       "\n",
       "    .dataframe tbody tr th {\n",
       "        vertical-align: top;\n",
       "    }\n",
       "\n",
       "    .dataframe thead th {\n",
       "        text-align: right;\n",
       "    }\n",
       "</style>\n",
       "<table border=\"1\" class=\"dataframe\">\n",
       "  <thead>\n",
       "    <tr style=\"text-align: right;\">\n",
       "      <th></th>\n",
       "      <th>actors</th>\n",
       "      <th>title</th>\n",
       "      <th>avg_vote</th>\n",
       "    </tr>\n",
       "  </thead>\n",
       "  <tbody>\n",
       "    <tr>\n",
       "      <th>677563</th>\n",
       "      <td>52324</td>\n",
       "      <td>48359</td>\n",
       "      <td>6.8</td>\n",
       "    </tr>\n",
       "    <tr>\n",
       "      <th>389724</th>\n",
       "      <td>102832</td>\n",
       "      <td>28318</td>\n",
       "      <td>6.9</td>\n",
       "    </tr>\n",
       "    <tr>\n",
       "      <th>967299</th>\n",
       "      <td>241263</td>\n",
       "      <td>68638</td>\n",
       "      <td>4.5</td>\n",
       "    </tr>\n",
       "    <tr>\n",
       "      <th>733159</th>\n",
       "      <td>19846</td>\n",
       "      <td>52278</td>\n",
       "      <td>3.5</td>\n",
       "    </tr>\n",
       "    <tr>\n",
       "      <th>138263</th>\n",
       "      <td>33079</td>\n",
       "      <td>10845</td>\n",
       "      <td>4.0</td>\n",
       "    </tr>\n",
       "  </tbody>\n",
       "</table>\n",
       "</div>"
      ],
      "text/plain": [
       "        actors  title  avg_vote\n",
       "677563   52324  48359       6.8\n",
       "389724  102832  28318       6.9\n",
       "967299  241263  68638       4.5\n",
       "733159   19846  52278       3.5\n",
       "138263   33079  10845       4.0"
      ]
     },
     "execution_count": 30,
     "metadata": {},
     "output_type": "execute_result"
    }
   ],
   "source": [
    "actor_movie_df.head()"
   ]
  },
  {
   "cell_type": "code",
   "execution_count": 31,
   "metadata": {},
   "outputs": [],
   "source": [
    "x = actor_movie_df[['actors', 'title']].values\n",
    "y = actor_movie_df['avg_vote'].apply(lambda x: (x - min_vote)/(max_vote - min_vote))"
   ]
  },
  {
   "cell_type": "code",
   "execution_count": 33,
   "metadata": {},
   "outputs": [],
   "source": [
    "train_indices = int(0.9 * actor_movie_df.shape[0])\n",
    "X_train, X_test, y_train, y_test = (x[:train_indices]\n",
    "                                    , x[train_indices:]\n",
    "                                    , y[:train_indices]\n",
    "                                    , y[train_indices:]\n",
    "                                   )"
   ]
  },
  {
   "cell_type": "code",
   "execution_count": 40,
   "metadata": {},
   "outputs": [],
   "source": [
    "EMBEDDING_SIZE = 50\n",
    "\n",
    "\n",
    "class RecommenderNet(keras.Model):\n",
    "    def __init__(self, num_actors, num_movies, embedding_size, **kwargs):\n",
    "        super(RecommenderNet, self).__init__(**kwargs)\n",
    "        self.num_actors = num_actors\n",
    "        self.num_movies = num_movies\n",
    "        self.embedding_size = embedding_size\n",
    "        \n",
    "        self.actor_embedding = layers.Embedding(num_actors\n",
    "                                               , embedding_size\n",
    "                                               , embeddings_initializer=\"he_normal\"\n",
    "                                               , embeddings_regularizer=keras.regularizers.l2(1e-6)\n",
    "                                              )\n",
    "        self.actor_bias = layers.Embedding(num_actors, 1)\n",
    "        \n",
    "        self.movie_embedding = layers.Embedding(num_movies\n",
    "                                                , embedding_size\n",
    "                                                , embeddings_initializer=\"he_normal\"\n",
    "                                                , embeddings_regularizer=keras.regularizers.l2(1e-6)\n",
    "                                               )\n",
    "        self.movie_bias = layers.Embedding(num_movies, 1)\n",
    "\n",
    "    def call(self, inputs):\n",
    "        actor_vector = self.actor_embedding(inputs[:, 0])\n",
    "        actor_bias = self.actor_bias(inputs[:, 0])\n",
    "        movie_vector = self.movie_embedding(inputs[:, 1])\n",
    "        movie_bias = self.movie_bias(inputs[:, 1])\n",
    "        \n",
    "        dot_actor_movie = tf.tensordot(actor_vector, movie_vector, 2)\n",
    "        # Add all the components (including bias)\n",
    "        x = dot_actor_movie + actor_bias + movie_bias\n",
    "        # The sigmoid activation forces the rating to between 0 and 1\n",
    "        return tf.nn.sigmoid(x)\n",
    "\n",
    "\n",
    "model = RecommenderNet(num_actors\n",
    "                       , num_movies\n",
    "                       , EMBEDDING_SIZE\n",
    "                      )\n",
    "\n",
    "model.compile(loss=tf.keras.losses.BinaryCrossentropy()\n",
    "              , optimizer=keras.optimizers.Adam(lr=0.001)\n",
    "             )"
   ]
  },
  {
   "cell_type": "code",
   "execution_count": 41,
   "metadata": {},
   "outputs": [
    {
     "name": "stdout",
     "output_type": "stream",
     "text": [
      "Epoch 1/5\n",
      "16248/16248 [==============================] - 2056s 127ms/step - loss: 0.6818 - val_loss: 0.6714\n",
      "Epoch 2/5\n",
      "16248/16248 [==============================] - 2035s 125ms/step - loss: 0.6639 - val_loss: 0.6587\n",
      "Epoch 3/5\n",
      "16248/16248 [==============================] - 2036s 125ms/step - loss: 0.6541 - val_loss: 0.6528\n",
      "Epoch 4/5\n",
      "16248/16248 [==============================] - 2038s 125ms/step - loss: 0.6509 - val_loss: 0.6511\n",
      "Epoch 5/5\n",
      "16248/16248 [==============================] - 2037s 125ms/step - loss: 0.6500 - val_loss: 0.6504\n"
     ]
    }
   ],
   "source": [
    "history = model.fit(x=X_train\n",
    "                    , y=y_train\n",
    "                    , batch_size=64\n",
    "                    , epochs=5\n",
    "                    , verbose=1\n",
    "                    , validation_data=(X_test, y_test)\n",
    "                   )"
   ]
  },
  {
   "cell_type": "code",
   "execution_count": 42,
   "metadata": {},
   "outputs": [
    {
     "data": {
      "image/png": "[encoded data removed]",
      "text/plain": [
       "<Figure size 432x288 with 1 Axes>"
      ]
     },
     "metadata": {},
     "output_type": "display_data"
    }
   ],
   "source": [
    "plt.plot(history.history[\"loss\"])\n",
    "plt.plot(history.history[\"val_loss\"])\n",
    "plt.title(\"model loss\")\n",
    "plt.ylabel(\"loss\")\n",
    "plt.xlabel(\"epoch\")\n",
    "plt.legend([\"train\", \"test\"], loc=\"upper left\")\n",
    "plt.show()"
   ]
  },
  {
   "cell_type": "code",
   "execution_count": null,
   "metadata": {},
   "outputs": [],
   "source": []
  },
  {
   "cell_type": "code",
   "execution_count": null,
   "metadata": {},
   "outputs": [],
   "source": []
  },
  {
   "cell_type": "code",
   "execution_count": null,
   "metadata": {},
   "outputs": [],
   "source": []
  },
  {
   "cell_type": "code",
   "execution_count": null,
   "metadata": {},
   "outputs": [],
   "source": []
  },
  {
   "cell_type": "code",
   "execution_count": null,
   "metadata": {},
   "outputs": [],
   "source": []
  },
  {
   "cell_type": "code",
   "execution_count": null,
   "metadata": {},
   "outputs": [],
   "source": []
  },
  {
   "cell_type": "code",
   "execution_count": null,
   "metadata": {},
   "outputs": [],
   "source": []
  },
  {
   "cell_type": "code",
   "execution_count": null,
   "metadata": {},
   "outputs": [],
   "source": []
  },
  {
   "cell_type": "code",
   "execution_count": 13,
   "metadata": {},
   "outputs": [
    {
     "data": {
      "text/html": [
       "<div>\n",
       "<style scoped>\n",
       "    .dataframe tbody tr th:only-of-type {\n",
       "        vertical-align: middle;\n",
       "    }\n",
       "\n",
       "    .dataframe tbody tr th {\n",
       "        vertical-align: top;\n",
       "    }\n",
       "\n",
       "    .dataframe thead th {\n",
       "        text-align: right;\n",
       "    }\n",
       "</style>\n",
       "<table border=\"1\" class=\"dataframe\">\n",
       "  <thead>\n",
       "    <tr style=\"text-align: right;\">\n",
       "      <th></th>\n",
       "      <th>imdb_name_id</th>\n",
       "      <th>name</th>\n",
       "      <th>birth_name</th>\n",
       "      <th>height</th>\n",
       "      <th>bio</th>\n",
       "      <th>birth_details</th>\n",
       "      <th>date_of_birth</th>\n",
       "      <th>place_of_birth</th>\n",
       "      <th>death_details</th>\n",
       "      <th>date_of_death</th>\n",
       "      <th>place_of_death</th>\n",
       "      <th>reason_of_death</th>\n",
       "      <th>spouses_string</th>\n",
       "      <th>spouses</th>\n",
       "      <th>divorces</th>\n",
       "      <th>spouses_with_children</th>\n",
       "      <th>children</th>\n",
       "    </tr>\n",
       "  </thead>\n",
       "  <tbody>\n",
       "    <tr>\n",
       "      <th>221874</th>\n",
       "      <td>nm2992243</td>\n",
       "      <td>Monique Zordan</td>\n",
       "      <td>Monique Zordan</td>\n",
       "      <td>165.0</td>\n",
       "      <td>Monique Zordan is an actress, known for Jack i...</td>\n",
       "      <td>NaN</td>\n",
       "      <td>NaN</td>\n",
       "      <td>NaN</td>\n",
       "      <td>NaN</td>\n",
       "      <td>NaN</td>\n",
       "      <td>NaN</td>\n",
       "      <td>NaN</td>\n",
       "      <td>NaN</td>\n",
       "      <td>0</td>\n",
       "      <td>0</td>\n",
       "      <td>0</td>\n",
       "      <td>0</td>\n",
       "    </tr>\n",
       "    <tr>\n",
       "      <th>206767</th>\n",
       "      <td>nm2412682</td>\n",
       "      <td>Hyun-Woo Ji</td>\n",
       "      <td>Hyun-Woo Ji</td>\n",
       "      <td>NaN</td>\n",
       "      <td>Hyun-Woo Ji is an actor, known for Sal-in-so-s...</td>\n",
       "      <td>NaN</td>\n",
       "      <td>NaN</td>\n",
       "      <td>NaN</td>\n",
       "      <td>NaN</td>\n",
       "      <td>NaN</td>\n",
       "      <td>NaN</td>\n",
       "      <td>NaN</td>\n",
       "      <td>NaN</td>\n",
       "      <td>0</td>\n",
       "      <td>0</td>\n",
       "      <td>0</td>\n",
       "      <td>0</td>\n",
       "    </tr>\n",
       "    <tr>\n",
       "      <th>252377</th>\n",
       "      <td>nm5381347</td>\n",
       "      <td>Yuiko Kobayashi</td>\n",
       "      <td>Yuiko Kobayashi</td>\n",
       "      <td>NaN</td>\n",
       "      <td>NaN</td>\n",
       "      <td>NaN</td>\n",
       "      <td>NaN</td>\n",
       "      <td>NaN</td>\n",
       "      <td>NaN</td>\n",
       "      <td>NaN</td>\n",
       "      <td>NaN</td>\n",
       "      <td>NaN</td>\n",
       "      <td>NaN</td>\n",
       "      <td>0</td>\n",
       "      <td>0</td>\n",
       "      <td>0</td>\n",
       "      <td>0</td>\n",
       "    </tr>\n",
       "    <tr>\n",
       "      <th>44335</th>\n",
       "      <td>nm0279162</td>\n",
       "      <td>Dietrich Fischer-Dieskau</td>\n",
       "      <td>Albert Dietrich Fischer</td>\n",
       "      <td>NaN</td>\n",
       "      <td>Dietrich Fischer-Dieskau was born on May 28, 1...</td>\n",
       "      <td>May 28, 1925 in Berlin, Germany</td>\n",
       "      <td>1925-05-28</td>\n",
       "      <td>Berlin, Germany</td>\n",
       "      <td>May 18, 2012 in Starnberg, Bavaria, Germany  (...</td>\n",
       "      <td>2012-05-18</td>\n",
       "      <td>Starnberg, Bavaria, Germany</td>\n",
       "      <td>in his sleep</td>\n",
       "      <td>Julia Varady  (1978 - 18 May 2012) (his death)...</td>\n",
       "      <td>4</td>\n",
       "      <td>2</td>\n",
       "      <td>1</td>\n",
       "      <td>3</td>\n",
       "    </tr>\n",
       "    <tr>\n",
       "      <th>235130</th>\n",
       "      <td>nm4197975</td>\n",
       "      <td>Pablo Donetch</td>\n",
       "      <td>Pablo Donetch</td>\n",
       "      <td>NaN</td>\n",
       "      <td>Pablo Donetch is an actor, known for Retorno (...</td>\n",
       "      <td>NaN</td>\n",
       "      <td>NaN</td>\n",
       "      <td>NaN</td>\n",
       "      <td>NaN</td>\n",
       "      <td>NaN</td>\n",
       "      <td>NaN</td>\n",
       "      <td>NaN</td>\n",
       "      <td>NaN</td>\n",
       "      <td>0</td>\n",
       "      <td>0</td>\n",
       "      <td>0</td>\n",
       "      <td>0</td>\n",
       "    </tr>\n",
       "  </tbody>\n",
       "</table>\n",
       "</div>"
      ],
      "text/plain": [
       "       imdb_name_id                      name               birth_name  \\\n",
       "221874    nm2992243            Monique Zordan           Monique Zordan   \n",
       "206767    nm2412682               Hyun-Woo Ji              Hyun-Woo Ji   \n",
       "252377    nm5381347           Yuiko Kobayashi          Yuiko Kobayashi   \n",
       "44335     nm0279162  Dietrich Fischer-Dieskau  Albert Dietrich Fischer   \n",
       "235130    nm4197975             Pablo Donetch            Pablo Donetch   \n",
       "\n",
       "        height                                                bio  \\\n",
       "221874   165.0  Monique Zordan is an actress, known for Jack i...   \n",
       "206767     NaN  Hyun-Woo Ji is an actor, known for Sal-in-so-s...   \n",
       "252377     NaN                                                NaN   \n",
       "44335      NaN  Dietrich Fischer-Dieskau was born on May 28, 1...   \n",
       "235130     NaN  Pablo Donetch is an actor, known for Retorno (...   \n",
       "\n",
       "                          birth_details date_of_birth   place_of_birth  \\\n",
       "221874                              NaN           NaN              NaN   \n",
       "206767                              NaN           NaN              NaN   \n",
       "252377                              NaN           NaN              NaN   \n",
       "44335   May 28, 1925 in Berlin, Germany    1925-05-28  Berlin, Germany   \n",
       "235130                              NaN           NaN              NaN   \n",
       "\n",
       "                                            death_details date_of_death  \\\n",
       "221874                                                NaN           NaN   \n",
       "206767                                                NaN           NaN   \n",
       "252377                                                NaN           NaN   \n",
       "44335   May 18, 2012 in Starnberg, Bavaria, Germany  (...    2012-05-18   \n",
       "235130                                                NaN           NaN   \n",
       "\n",
       "                       place_of_death reason_of_death  \\\n",
       "221874                            NaN             NaN   \n",
       "206767                            NaN             NaN   \n",
       "252377                            NaN             NaN   \n",
       "44335   Starnberg, Bavaria, Germany      in his sleep   \n",
       "235130                            NaN             NaN   \n",
       "\n",
       "                                           spouses_string  spouses  divorces  \\\n",
       "221874                                                NaN        0         0   \n",
       "206767                                                NaN        0         0   \n",
       "252377                                                NaN        0         0   \n",
       "44335   Julia Varady  (1978 - 18 May 2012) (his death)...        4         2   \n",
       "235130                                                NaN        0         0   \n",
       "\n",
       "        spouses_with_children  children  \n",
       "221874                      0         0  \n",
       "206767                      0         0  \n",
       "252377                      0         0  \n",
       "44335                       1         3  \n",
       "235130                      0         0  "
      ]
     },
     "execution_count": 13,
     "metadata": {},
     "output_type": "execute_result"
    }
   ],
   "source": [
    "names_df = pd.read_csv('./data/IMDb_names.csv'\n",
    "                       , low_memory = False\n",
    "                      )\n",
    "names_df.sample(5)"
   ]
  },
  {
   "cell_type": "code",
   "execution_count": null,
   "metadata": {},
   "outputs": [],
   "source": []
  },
  {
   "cell_type": "code",
   "execution_count": null,
   "metadata": {},
   "outputs": [],
   "source": []
  }
 ],
 "metadata": {
  "kernelspec": {
   "display_name": "Python 3",
   "language": "python",
   "name": "python3"
  },
  "language_info": {
   "codemirror_mode": {
    "name": "ipython",
    "version": 3
   },
   "file_extension": ".py",
   "mimetype": "text/x-python",
   "name": "python",
   "nbconvert_exporter": "python",
   "pygments_lexer": "ipython3",
   "version": "3.8.5"
  }
 },
 "nbformat": 4,
 "nbformat_minor": 4
}
