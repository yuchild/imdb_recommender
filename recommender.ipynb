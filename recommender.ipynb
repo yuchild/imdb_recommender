{
 "cells": [
  {
   "cell_type": "code",
   "execution_count": 1,
   "metadata": {},
   "outputs": [],
   "source": [
    "import pandas as pd"
   ]
  },
  {
   "cell_type": "code",
   "execution_count": 4,
   "metadata": {},
   "outputs": [
    {
     "data": {
      "text/html": [
       "<div>\n",
       "<style scoped>\n",
       "    .dataframe tbody tr th:only-of-type {\n",
       "        vertical-align: middle;\n",
       "    }\n",
       "\n",
       "    .dataframe tbody tr th {\n",
       "        vertical-align: top;\n",
       "    }\n",
       "\n",
       "    .dataframe thead th {\n",
       "        text-align: right;\n",
       "    }\n",
       "</style>\n",
       "<table border=\"1\" class=\"dataframe\">\n",
       "  <thead>\n",
       "    <tr style=\"text-align: right;\">\n",
       "      <th></th>\n",
       "      <th>imdb_title_id</th>\n",
       "      <th>title</th>\n",
       "      <th>original_title</th>\n",
       "      <th>year</th>\n",
       "      <th>date_published</th>\n",
       "      <th>genre</th>\n",
       "      <th>duration</th>\n",
       "      <th>country</th>\n",
       "      <th>language</th>\n",
       "      <th>director</th>\n",
       "      <th>...</th>\n",
       "      <th>actors</th>\n",
       "      <th>description</th>\n",
       "      <th>avg_vote</th>\n",
       "      <th>votes</th>\n",
       "      <th>budget</th>\n",
       "      <th>usa_gross_income</th>\n",
       "      <th>worlwide_gross_income</th>\n",
       "      <th>metascore</th>\n",
       "      <th>reviews_from_users</th>\n",
       "      <th>reviews_from_critics</th>\n",
       "    </tr>\n",
       "  </thead>\n",
       "  <tbody>\n",
       "    <tr>\n",
       "      <th>9340</th>\n",
       "      <td>tt0051076</td>\n",
       "      <td>Io non sono una spia</td>\n",
       "      <td>Three Brave Men</td>\n",
       "      <td>1956</td>\n",
       "      <td>1956-12-01</td>\n",
       "      <td>Drama</td>\n",
       "      <td>88</td>\n",
       "      <td>USA</td>\n",
       "      <td>English</td>\n",
       "      <td>Philip Dunne</td>\n",
       "      <td>...</td>\n",
       "      <td>Ray Milland, Ernest Borgnine, Frank Lovejoy, N...</td>\n",
       "      <td>During the Cold War, a Maryland civilian emplo...</td>\n",
       "      <td>6.5</td>\n",
       "      <td>153</td>\n",
       "      <td>$ 1050000</td>\n",
       "      <td>NaN</td>\n",
       "      <td>NaN</td>\n",
       "      <td>NaN</td>\n",
       "      <td>8.0</td>\n",
       "      <td>3.0</td>\n",
       "    </tr>\n",
       "    <tr>\n",
       "      <th>76454</th>\n",
       "      <td>tt5011604</td>\n",
       "      <td>Con Men</td>\n",
       "      <td>Con Men</td>\n",
       "      <td>2015</td>\n",
       "      <td>2016-01-01</td>\n",
       "      <td>Crime, Drama, Mystery</td>\n",
       "      <td>90</td>\n",
       "      <td>UK, USA</td>\n",
       "      <td>English</td>\n",
       "      <td>R. Paul Wilson</td>\n",
       "      <td>...</td>\n",
       "      <td>Liesl Brown, Sarah-Beth Brown, Paul Carruth, P...</td>\n",
       "      <td>Two con artists go after the wrong score and p...</td>\n",
       "      <td>6.3</td>\n",
       "      <td>112</td>\n",
       "      <td>GBP 5000</td>\n",
       "      <td>NaN</td>\n",
       "      <td>NaN</td>\n",
       "      <td>NaN</td>\n",
       "      <td>7.0</td>\n",
       "      <td>1.0</td>\n",
       "    </tr>\n",
       "    <tr>\n",
       "      <th>74196</th>\n",
       "      <td>tt4263780</td>\n",
       "      <td>The Snarling</td>\n",
       "      <td>The Snarling</td>\n",
       "      <td>2018</td>\n",
       "      <td>2018-10-29</td>\n",
       "      <td>Action, Comedy, Fantasy</td>\n",
       "      <td>83</td>\n",
       "      <td>UK</td>\n",
       "      <td>English</td>\n",
       "      <td>Pablo Raybould</td>\n",
       "      <td>...</td>\n",
       "      <td>Laurence Saunders, Chris Simmons, Ben Manning,...</td>\n",
       "      <td>A sleepy English village is invaded by the cas...</td>\n",
       "      <td>4.4</td>\n",
       "      <td>398</td>\n",
       "      <td>NaN</td>\n",
       "      <td>NaN</td>\n",
       "      <td>NaN</td>\n",
       "      <td>NaN</td>\n",
       "      <td>18.0</td>\n",
       "      <td>8.0</td>\n",
       "    </tr>\n",
       "    <tr>\n",
       "      <th>47075</th>\n",
       "      <td>tt0446442</td>\n",
       "      <td>Alcuni giorni in settembre</td>\n",
       "      <td>Quelques jours en septembre</td>\n",
       "      <td>2006</td>\n",
       "      <td>2006-09-06</td>\n",
       "      <td>Drama, Thriller</td>\n",
       "      <td>116</td>\n",
       "      <td>Italy, France, Portugal</td>\n",
       "      <td>English, French, Italian, Arabic</td>\n",
       "      <td>Santiago Amigorena</td>\n",
       "      <td>...</td>\n",
       "      <td>Juliette Binoche, John Turturro, Sara Forestie...</td>\n",
       "      <td>On September 1st, 2001 a spy receives informat...</td>\n",
       "      <td>5.3</td>\n",
       "      <td>1711</td>\n",
       "      <td>EUR 10000000</td>\n",
       "      <td>NaN</td>\n",
       "      <td>$ 471845</td>\n",
       "      <td>NaN</td>\n",
       "      <td>24.0</td>\n",
       "      <td>29.0</td>\n",
       "    </tr>\n",
       "    <tr>\n",
       "      <th>26047</th>\n",
       "      <td>tt0102275</td>\n",
       "      <td>L'ultimo guerriero</td>\n",
       "      <td>The Last Riders</td>\n",
       "      <td>1992</td>\n",
       "      <td>1992-02-01</td>\n",
       "      <td>Action, Drama</td>\n",
       "      <td>90</td>\n",
       "      <td>USA, Mexico</td>\n",
       "      <td>English</td>\n",
       "      <td>Joseph Merhi</td>\n",
       "      <td>...</td>\n",
       "      <td>Erik Estrada, Angelo Tiffe, William Smith, Arm...</td>\n",
       "      <td>When his family is murdered, Johnny gets reven...</td>\n",
       "      <td>4.7</td>\n",
       "      <td>120</td>\n",
       "      <td>NaN</td>\n",
       "      <td>NaN</td>\n",
       "      <td>NaN</td>\n",
       "      <td>NaN</td>\n",
       "      <td>4.0</td>\n",
       "      <td>3.0</td>\n",
       "    </tr>\n",
       "  </tbody>\n",
       "</table>\n",
       "<p>5 rows × 22 columns</p>\n",
       "</div>"
      ],
      "text/plain": [
       "      imdb_title_id                       title               original_title  \\\n",
       "9340      tt0051076        Io non sono una spia              Three Brave Men   \n",
       "76454     tt5011604                     Con Men                      Con Men   \n",
       "74196     tt4263780                The Snarling                 The Snarling   \n",
       "47075     tt0446442  Alcuni giorni in settembre  Quelques jours en septembre   \n",
       "26047     tt0102275          L'ultimo guerriero              The Last Riders   \n",
       "\n",
       "       year date_published                    genre  duration  \\\n",
       "9340   1956     1956-12-01                    Drama        88   \n",
       "76454  2015     2016-01-01    Crime, Drama, Mystery        90   \n",
       "74196  2018     2018-10-29  Action, Comedy, Fantasy        83   \n",
       "47075  2006     2006-09-06          Drama, Thriller       116   \n",
       "26047  1992     1992-02-01            Action, Drama        90   \n",
       "\n",
       "                       country                          language  \\\n",
       "9340                       USA                           English   \n",
       "76454                  UK, USA                           English   \n",
       "74196                       UK                           English   \n",
       "47075  Italy, France, Portugal  English, French, Italian, Arabic   \n",
       "26047              USA, Mexico                           English   \n",
       "\n",
       "                 director  ...  \\\n",
       "9340         Philip Dunne  ...   \n",
       "76454      R. Paul Wilson  ...   \n",
       "74196      Pablo Raybould  ...   \n",
       "47075  Santiago Amigorena  ...   \n",
       "26047        Joseph Merhi  ...   \n",
       "\n",
       "                                                  actors  \\\n",
       "9340   Ray Milland, Ernest Borgnine, Frank Lovejoy, N...   \n",
       "76454  Liesl Brown, Sarah-Beth Brown, Paul Carruth, P...   \n",
       "74196  Laurence Saunders, Chris Simmons, Ben Manning,...   \n",
       "47075  Juliette Binoche, John Turturro, Sara Forestie...   \n",
       "26047  Erik Estrada, Angelo Tiffe, William Smith, Arm...   \n",
       "\n",
       "                                             description avg_vote votes  \\\n",
       "9340   During the Cold War, a Maryland civilian emplo...      6.5   153   \n",
       "76454  Two con artists go after the wrong score and p...      6.3   112   \n",
       "74196  A sleepy English village is invaded by the cas...      4.4   398   \n",
       "47075  On September 1st, 2001 a spy receives informat...      5.3  1711   \n",
       "26047  When his family is murdered, Johnny gets reven...      4.7   120   \n",
       "\n",
       "             budget  usa_gross_income worlwide_gross_income metascore  \\\n",
       "9340      $ 1050000               NaN                   NaN       NaN   \n",
       "76454      GBP 5000               NaN                   NaN       NaN   \n",
       "74196           NaN               NaN                   NaN       NaN   \n",
       "47075  EUR 10000000               NaN              $ 471845       NaN   \n",
       "26047           NaN               NaN                   NaN       NaN   \n",
       "\n",
       "      reviews_from_users  reviews_from_critics  \n",
       "9340                 8.0                   3.0  \n",
       "76454                7.0                   1.0  \n",
       "74196               18.0                   8.0  \n",
       "47075               24.0                  29.0  \n",
       "26047                4.0                   3.0  \n",
       "\n",
       "[5 rows x 22 columns]"
      ]
     },
     "execution_count": 4,
     "metadata": {},
     "output_type": "execute_result"
    }
   ],
   "source": [
    "movies_df = pd.read_csv('./data/IMDb_movies.csv'\n",
    "                        , low_memory = False\n",
    "                       )\n",
    "movies_df.sample(5)"
   ]
  },
  {
   "cell_type": "code",
   "execution_count": 6,
   "metadata": {},
   "outputs": [
    {
     "data": {
      "text/plain": [
       "(85855, 22)"
      ]
     },
     "execution_count": 6,
     "metadata": {},
     "output_type": "execute_result"
    }
   ],
   "source": [
    "movies_df.shape"
   ]
  },
  {
   "cell_type": "code",
   "execution_count": 8,
   "metadata": {},
   "outputs": [
    {
     "name": "stdout",
     "output_type": "stream",
     "text": [
      "imdb_title_id\n",
      "title\n",
      "original_title\n",
      "year\n",
      "date_published\n",
      "genre\n",
      "duration\n",
      "country\n",
      "language\n",
      "director\n",
      "writer\n",
      "production_company\n",
      "actors\n",
      "description\n",
      "avg_vote\n",
      "votes\n",
      "budget\n",
      "usa_gross_income\n",
      "worlwide_gross_income\n",
      "metascore\n",
      "reviews_from_users\n",
      "reviews_from_critics\n"
     ]
    }
   ],
   "source": [
    "for x in movies_df.columns:\n",
    "    print(x)"
   ]
  },
  {
   "cell_type": "code",
   "execution_count": 9,
   "metadata": {},
   "outputs": [
    {
     "data": {
      "text/plain": [
       "'Blanche Bayliss, William Courtenay, Chauncey Depew'"
      ]
     },
     "execution_count": 9,
     "metadata": {},
     "output_type": "execute_result"
    }
   ],
   "source": [
    "movies_df.actors.iloc[0]"
   ]
  },
  {
   "cell_type": "code",
   "execution_count": 10,
   "metadata": {},
   "outputs": [
    {
     "data": {
      "text/plain": [
       "nan"
      ]
     },
     "execution_count": 10,
     "metadata": {},
     "output_type": "execute_result"
    }
   ],
   "source": [
    "movies_df.metascore.iloc[0]"
   ]
  },
  {
   "cell_type": "code",
   "execution_count": 12,
   "metadata": {},
   "outputs": [
    {
     "data": {
      "text/plain": [
       "1.0"
      ]
     },
     "execution_count": 12,
     "metadata": {},
     "output_type": "execute_result"
    }
   ],
   "source": [
    "movies_df.reviews_from_users.iloc[0]"
   ]
  },
  {
   "cell_type": "code",
   "execution_count": 13,
   "metadata": {},
   "outputs": [
    {
     "data": {
      "text/plain": [
       "2.0"
      ]
     },
     "execution_count": 13,
     "metadata": {},
     "output_type": "execute_result"
    }
   ],
   "source": [
    "movies_df.reviews_from_critics.iloc[0]"
   ]
  },
  {
   "cell_type": "code",
   "execution_count": 14,
   "metadata": {},
   "outputs": [
    {
     "data": {
      "text/plain": [
       "imdb_title_id                0\n",
       "title                        0\n",
       "original_title               0\n",
       "year                         0\n",
       "date_published               0\n",
       "genre                        0\n",
       "duration                     0\n",
       "country                     64\n",
       "language                   833\n",
       "director                    87\n",
       "writer                    1572\n",
       "production_company        4455\n",
       "actors                      69\n",
       "description               2115\n",
       "avg_vote                     0\n",
       "votes                        0\n",
       "budget                   62145\n",
       "usa_gross_income         70529\n",
       "worlwide_gross_income    54839\n",
       "metascore                72550\n",
       "reviews_from_users        7597\n",
       "reviews_from_critics     11797\n",
       "dtype: int64"
      ]
     },
     "execution_count": 14,
     "metadata": {},
     "output_type": "execute_result"
    }
   ],
   "source": [
    "movies_df.isna().sum()"
   ]
  },
  {
   "cell_type": "code",
   "execution_count": 15,
   "metadata": {},
   "outputs": [
    {
     "data": {
      "text/plain": [
       "5.9"
      ]
     },
     "execution_count": 15,
     "metadata": {},
     "output_type": "execute_result"
    }
   ],
   "source": [
    "movies_df.avg_vote.iloc[0]"
   ]
  },
  {
   "cell_type": "code",
   "execution_count": 16,
   "metadata": {},
   "outputs": [
    {
     "data": {
      "text/plain": [
       "(9.9, 1.0)"
      ]
     },
     "execution_count": 16,
     "metadata": {},
     "output_type": "execute_result"
    }
   ],
   "source": [
    "movies_df.avg_vote.max(), movies_df.avg_vote.min()"
   ]
  },
  {
   "cell_type": "code",
   "execution_count": 17,
   "metadata": {},
   "outputs": [
    {
     "data": {
      "text/plain": [
       "154"
      ]
     },
     "execution_count": 17,
     "metadata": {},
     "output_type": "execute_result"
    }
   ],
   "source": [
    "movies_df.votes.iloc[0]"
   ]
  },
  {
   "cell_type": "code",
   "execution_count": null,
   "metadata": {},
   "outputs": [],
   "source": []
  },
  {
   "cell_type": "code",
   "execution_count": null,
   "metadata": {},
   "outputs": [],
   "source": []
  },
  {
   "cell_type": "code",
   "execution_count": null,
   "metadata": {},
   "outputs": [],
   "source": []
  },
  {
   "cell_type": "code",
   "execution_count": null,
   "metadata": {},
   "outputs": [],
   "source": []
  },
  {
   "cell_type": "code",
   "execution_count": null,
   "metadata": {},
   "outputs": [],
   "source": []
  },
  {
   "cell_type": "code",
   "execution_count": 5,
   "metadata": {},
   "outputs": [
    {
     "data": {
      "text/html": [
       "<div>\n",
       "<style scoped>\n",
       "    .dataframe tbody tr th:only-of-type {\n",
       "        vertical-align: middle;\n",
       "    }\n",
       "\n",
       "    .dataframe tbody tr th {\n",
       "        vertical-align: top;\n",
       "    }\n",
       "\n",
       "    .dataframe thead th {\n",
       "        text-align: right;\n",
       "    }\n",
       "</style>\n",
       "<table border=\"1\" class=\"dataframe\">\n",
       "  <thead>\n",
       "    <tr style=\"text-align: right;\">\n",
       "      <th></th>\n",
       "      <th>imdb_name_id</th>\n",
       "      <th>name</th>\n",
       "      <th>birth_name</th>\n",
       "      <th>height</th>\n",
       "      <th>bio</th>\n",
       "      <th>birth_details</th>\n",
       "      <th>date_of_birth</th>\n",
       "      <th>place_of_birth</th>\n",
       "      <th>death_details</th>\n",
       "      <th>date_of_death</th>\n",
       "      <th>place_of_death</th>\n",
       "      <th>reason_of_death</th>\n",
       "      <th>spouses_string</th>\n",
       "      <th>spouses</th>\n",
       "      <th>divorces</th>\n",
       "      <th>spouses_with_children</th>\n",
       "      <th>children</th>\n",
       "    </tr>\n",
       "  </thead>\n",
       "  <tbody>\n",
       "    <tr>\n",
       "      <th>112262</th>\n",
       "      <td>nm0761415</td>\n",
       "      <td>Mart Sander</td>\n",
       "      <td>Martin Laurent Sander</td>\n",
       "      <td>196.0</td>\n",
       "      <td>Popular singer and TV host. Member of the Esto...</td>\n",
       "      <td>August 10, 1967 in Tallinn, Estonian SSR, USSR...</td>\n",
       "      <td>1967-08-10</td>\n",
       "      <td>Tallinn, Estonian SSR, USSR [now Estonia]</td>\n",
       "      <td>NaN</td>\n",
       "      <td>NaN</td>\n",
       "      <td>NaN</td>\n",
       "      <td>NaN</td>\n",
       "      <td>NaN</td>\n",
       "      <td>0</td>\n",
       "      <td>0</td>\n",
       "      <td>0</td>\n",
       "      <td>0</td>\n",
       "    </tr>\n",
       "    <tr>\n",
       "      <th>45247</th>\n",
       "      <td>nm0286144</td>\n",
       "      <td>Sydney Forest</td>\n",
       "      <td>Sydney Forest</td>\n",
       "      <td>NaN</td>\n",
       "      <td>NaN</td>\n",
       "      <td>NaN</td>\n",
       "      <td>NaN</td>\n",
       "      <td>NaN</td>\n",
       "      <td>NaN</td>\n",
       "      <td>NaN</td>\n",
       "      <td>NaN</td>\n",
       "      <td>NaN</td>\n",
       "      <td>NaN</td>\n",
       "      <td>0</td>\n",
       "      <td>0</td>\n",
       "      <td>0</td>\n",
       "      <td>0</td>\n",
       "    </tr>\n",
       "    <tr>\n",
       "      <th>213011</th>\n",
       "      <td>nm2633096</td>\n",
       "      <td>Mauricio Argüelles</td>\n",
       "      <td>Mauricio Argüelles</td>\n",
       "      <td>NaN</td>\n",
       "      <td>Mauricio Argüelles is an actor and producer, k...</td>\n",
       "      <td>NaN</td>\n",
       "      <td>NaN</td>\n",
       "      <td>NaN</td>\n",
       "      <td>NaN</td>\n",
       "      <td>NaN</td>\n",
       "      <td>NaN</td>\n",
       "      <td>NaN</td>\n",
       "      <td>NaN</td>\n",
       "      <td>0</td>\n",
       "      <td>0</td>\n",
       "      <td>0</td>\n",
       "      <td>0</td>\n",
       "    </tr>\n",
       "    <tr>\n",
       "      <th>28429</th>\n",
       "      <td>nm0162737</td>\n",
       "      <td>Gabriele Cirilli</td>\n",
       "      <td>Gabriele Cirilli</td>\n",
       "      <td>NaN</td>\n",
       "      <td>Gabriele Cirilli was born on June 12, 1967 in ...</td>\n",
       "      <td>June 12, 1967 in Sulmona, Abruzzo, Italy</td>\n",
       "      <td>1967-06-12</td>\n",
       "      <td>Sulmona, Abruzzo, Italy</td>\n",
       "      <td>NaN</td>\n",
       "      <td>NaN</td>\n",
       "      <td>NaN</td>\n",
       "      <td>NaN</td>\n",
       "      <td>Maria  (? - present) (1 child)</td>\n",
       "      <td>1</td>\n",
       "      <td>0</td>\n",
       "      <td>1</td>\n",
       "      <td>1</td>\n",
       "    </tr>\n",
       "    <tr>\n",
       "      <th>97888</th>\n",
       "      <td>nm0653829</td>\n",
       "      <td>Camilla Overbye Roos</td>\n",
       "      <td>Camilla Overbye Roos</td>\n",
       "      <td>NaN</td>\n",
       "      <td>Camilla Overbye Roos was born in Copenhagen, D...</td>\n",
       "      <td>January 19, 1969 in Copenhagen, Denmark</td>\n",
       "      <td>1969-01-19</td>\n",
       "      <td>Copenhagen, Denmark</td>\n",
       "      <td>NaN</td>\n",
       "      <td>NaN</td>\n",
       "      <td>NaN</td>\n",
       "      <td>NaN</td>\n",
       "      <td>NaN</td>\n",
       "      <td>0</td>\n",
       "      <td>0</td>\n",
       "      <td>0</td>\n",
       "      <td>0</td>\n",
       "    </tr>\n",
       "  </tbody>\n",
       "</table>\n",
       "</div>"
      ],
      "text/plain": [
       "       imdb_name_id                  name             birth_name  height  \\\n",
       "112262    nm0761415           Mart Sander  Martin Laurent Sander   196.0   \n",
       "45247     nm0286144         Sydney Forest          Sydney Forest     NaN   \n",
       "213011    nm2633096    Mauricio Argüelles     Mauricio Argüelles     NaN   \n",
       "28429     nm0162737      Gabriele Cirilli       Gabriele Cirilli     NaN   \n",
       "97888     nm0653829  Camilla Overbye Roos   Camilla Overbye Roos     NaN   \n",
       "\n",
       "                                                      bio  \\\n",
       "112262  Popular singer and TV host. Member of the Esto...   \n",
       "45247                                                 NaN   \n",
       "213011  Mauricio Argüelles is an actor and producer, k...   \n",
       "28429   Gabriele Cirilli was born on June 12, 1967 in ...   \n",
       "97888   Camilla Overbye Roos was born in Copenhagen, D...   \n",
       "\n",
       "                                            birth_details date_of_birth  \\\n",
       "112262  August 10, 1967 in Tallinn, Estonian SSR, USSR...    1967-08-10   \n",
       "45247                                                 NaN           NaN   \n",
       "213011                                                NaN           NaN   \n",
       "28429            June 12, 1967 in Sulmona, Abruzzo, Italy    1967-06-12   \n",
       "97888             January 19, 1969 in Copenhagen, Denmark    1969-01-19   \n",
       "\n",
       "                                   place_of_birth death_details date_of_death  \\\n",
       "112262  Tallinn, Estonian SSR, USSR [now Estonia]           NaN           NaN   \n",
       "45247                                         NaN           NaN           NaN   \n",
       "213011                                        NaN           NaN           NaN   \n",
       "28429                     Sulmona, Abruzzo, Italy           NaN           NaN   \n",
       "97888                         Copenhagen, Denmark           NaN           NaN   \n",
       "\n",
       "       place_of_death reason_of_death                  spouses_string  \\\n",
       "112262            NaN             NaN                             NaN   \n",
       "45247             NaN             NaN                             NaN   \n",
       "213011            NaN             NaN                             NaN   \n",
       "28429             NaN             NaN  Maria  (? - present) (1 child)   \n",
       "97888             NaN             NaN                             NaN   \n",
       "\n",
       "        spouses  divorces  spouses_with_children  children  \n",
       "112262        0         0                      0         0  \n",
       "45247         0         0                      0         0  \n",
       "213011        0         0                      0         0  \n",
       "28429         1         0                      1         1  \n",
       "97888         0         0                      0         0  "
      ]
     },
     "execution_count": 5,
     "metadata": {},
     "output_type": "execute_result"
    }
   ],
   "source": [
    "names_df = pd.read_csv('./data/IMDb_names.csv'\n",
    "                       , low_memory = False\n",
    "                      )\n",
    "names_df.sample(5)"
   ]
  },
  {
   "cell_type": "code",
   "execution_count": null,
   "metadata": {},
   "outputs": [],
   "source": []
  }
 ],
 "metadata": {
  "kernelspec": {
   "display_name": "Python 3",
   "language": "python",
   "name": "python3"
  },
  "language_info": {
   "codemirror_mode": {
    "name": "ipython",
    "version": 3
   },
   "file_extension": ".py",
   "mimetype": "text/x-python",
   "name": "python",
   "nbconvert_exporter": "python",
   "pygments_lexer": "ipython3",
   "version": "3.8.6"
  }
 },
 "nbformat": 4,
 "nbformat_minor": 4
}
