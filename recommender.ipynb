{
 "cells": [
  {
   "cell_type": "code",
   "execution_count": 1,
   "metadata": {},
   "outputs": [],
   "source": [
    "import pandas as pd\n",
    "import numpy as np\n",
    "import matplotlib.pyplot as plt\n",
    "plt.style.use('fivethirtyeight')\n",
    "\n",
    "import tensorflow as tf\n",
    "from tensorflow import keras\n",
    "from tensorflow.keras import layers"
   ]
  },
  {
   "cell_type": "code",
   "execution_count": 2,
   "metadata": {
    "scrolled": true
   },
   "outputs": [
    {
     "data": {
      "text/html": [
       "<div>\n",
       "<style scoped>\n",
       "    .dataframe tbody tr th:only-of-type {\n",
       "        vertical-align: middle;\n",
       "    }\n",
       "\n",
       "    .dataframe tbody tr th {\n",
       "        vertical-align: top;\n",
       "    }\n",
       "\n",
       "    .dataframe thead th {\n",
       "        text-align: right;\n",
       "    }\n",
       "</style>\n",
       "<table border=\"1\" class=\"dataframe\">\n",
       "  <thead>\n",
       "    <tr style=\"text-align: right;\">\n",
       "      <th></th>\n",
       "      <th>imdb_title_id</th>\n",
       "      <th>title</th>\n",
       "      <th>original_title</th>\n",
       "      <th>year</th>\n",
       "      <th>date_published</th>\n",
       "      <th>genre</th>\n",
       "      <th>duration</th>\n",
       "      <th>country</th>\n",
       "      <th>language</th>\n",
       "      <th>director</th>\n",
       "      <th>...</th>\n",
       "      <th>actors</th>\n",
       "      <th>description</th>\n",
       "      <th>avg_vote</th>\n",
       "      <th>votes</th>\n",
       "      <th>budget</th>\n",
       "      <th>usa_gross_income</th>\n",
       "      <th>worlwide_gross_income</th>\n",
       "      <th>metascore</th>\n",
       "      <th>reviews_from_users</th>\n",
       "      <th>reviews_from_critics</th>\n",
       "    </tr>\n",
       "  </thead>\n",
       "  <tbody>\n",
       "    <tr>\n",
       "      <th>17366</th>\n",
       "      <td>tt0074258</td>\n",
       "      <td>Ballata macabra</td>\n",
       "      <td>Burnt Offerings</td>\n",
       "      <td>1976</td>\n",
       "      <td>1976-10-18</td>\n",
       "      <td>Horror, Mystery, Thriller</td>\n",
       "      <td>116</td>\n",
       "      <td>USA, Italy</td>\n",
       "      <td>English</td>\n",
       "      <td>Dan Curtis</td>\n",
       "      <td>...</td>\n",
       "      <td>Karen Black, Oliver Reed, Burgess Meredith, Ei...</td>\n",
       "      <td>A family moves into a large old mansion that s...</td>\n",
       "      <td>6.5</td>\n",
       "      <td>9463</td>\n",
       "      <td>NaN</td>\n",
       "      <td>NaN</td>\n",
       "      <td>NaN</td>\n",
       "      <td>48.0</td>\n",
       "      <td>143.0</td>\n",
       "      <td>82.0</td>\n",
       "    </tr>\n",
       "    <tr>\n",
       "      <th>751</th>\n",
       "      <td>tt0020014</td>\n",
       "      <td>The Idle Rich</td>\n",
       "      <td>The Idle Rich</td>\n",
       "      <td>1929</td>\n",
       "      <td>1929-06-15</td>\n",
       "      <td>Comedy</td>\n",
       "      <td>80</td>\n",
       "      <td>USA</td>\n",
       "      <td>English</td>\n",
       "      <td>William C. de Mille</td>\n",
       "      <td>...</td>\n",
       "      <td>Conrad Nagel, Bessie Love, Leila Hyams, Robert...</td>\n",
       "      <td>Millionaire William van Luyn falls in love wit...</td>\n",
       "      <td>5.9</td>\n",
       "      <td>118</td>\n",
       "      <td>NaN</td>\n",
       "      <td>NaN</td>\n",
       "      <td>NaN</td>\n",
       "      <td>NaN</td>\n",
       "      <td>6.0</td>\n",
       "      <td>2.0</td>\n",
       "    </tr>\n",
       "    <tr>\n",
       "      <th>82618</th>\n",
       "      <td>tt7471884</td>\n",
       "      <td>Silencio</td>\n",
       "      <td>Silencio</td>\n",
       "      <td>2018</td>\n",
       "      <td>2018-11-01</td>\n",
       "      <td>Drama, Mystery, Thriller</td>\n",
       "      <td>98</td>\n",
       "      <td>Mexico</td>\n",
       "      <td>Spanish, English</td>\n",
       "      <td>Lorena Villarreal</td>\n",
       "      <td>...</td>\n",
       "      <td>Novak Ricardo Cañamar, Anna Cetti, Michel Chau...</td>\n",
       "      <td>In order to save her son's life, Ana embarks o...</td>\n",
       "      <td>4.9</td>\n",
       "      <td>239</td>\n",
       "      <td>NaN</td>\n",
       "      <td>$ 158723</td>\n",
       "      <td>$ 338596</td>\n",
       "      <td>29.0</td>\n",
       "      <td>9.0</td>\n",
       "      <td>19.0</td>\n",
       "    </tr>\n",
       "    <tr>\n",
       "      <th>54352</th>\n",
       "      <td>tt1130967</td>\n",
       "      <td>The Graduates</td>\n",
       "      <td>The Graduates</td>\n",
       "      <td>2008</td>\n",
       "      <td>2009-07-02</td>\n",
       "      <td>Comedy</td>\n",
       "      <td>97</td>\n",
       "      <td>USA</td>\n",
       "      <td>English</td>\n",
       "      <td>Ryan Gielen</td>\n",
       "      <td>...</td>\n",
       "      <td>Rob Bradford, Blake Merriman, Nick Vergara, Mi...</td>\n",
       "      <td>Four friends head to Senior Week in Ocean City...</td>\n",
       "      <td>4.5</td>\n",
       "      <td>406</td>\n",
       "      <td>$ 150000</td>\n",
       "      <td>NaN</td>\n",
       "      <td>NaN</td>\n",
       "      <td>NaN</td>\n",
       "      <td>9.0</td>\n",
       "      <td>24.0</td>\n",
       "    </tr>\n",
       "    <tr>\n",
       "      <th>13006</th>\n",
       "      <td>tt0061576</td>\n",
       "      <td>Dio perdona... Io no!</td>\n",
       "      <td>Dio perdona... Io no!</td>\n",
       "      <td>1967</td>\n",
       "      <td>1967-10-31</td>\n",
       "      <td>Western</td>\n",
       "      <td>109</td>\n",
       "      <td>Italy, Spain</td>\n",
       "      <td>Italian</td>\n",
       "      <td>Giuseppe Colizzi</td>\n",
       "      <td>...</td>\n",
       "      <td>Terence Hill, Frank Wolff, Bud Spencer, Gina R...</td>\n",
       "      <td>After a train is robbed of its payroll, an ins...</td>\n",
       "      <td>6.4</td>\n",
       "      <td>3931</td>\n",
       "      <td>NaN</td>\n",
       "      <td>NaN</td>\n",
       "      <td>NaN</td>\n",
       "      <td>NaN</td>\n",
       "      <td>17.0</td>\n",
       "      <td>9.0</td>\n",
       "    </tr>\n",
       "  </tbody>\n",
       "</table>\n",
       "<p>5 rows × 22 columns</p>\n",
       "</div>"
      ],
      "text/plain": [
       "      imdb_title_id                  title         original_title  year  \\\n",
       "17366     tt0074258        Ballata macabra        Burnt Offerings  1976   \n",
       "751       tt0020014          The Idle Rich          The Idle Rich  1929   \n",
       "82618     tt7471884               Silencio               Silencio  2018   \n",
       "54352     tt1130967          The Graduates          The Graduates  2008   \n",
       "13006     tt0061576  Dio perdona... Io no!  Dio perdona... Io no!  1967   \n",
       "\n",
       "      date_published                      genre  duration       country  \\\n",
       "17366     1976-10-18  Horror, Mystery, Thriller       116    USA, Italy   \n",
       "751       1929-06-15                     Comedy        80           USA   \n",
       "82618     2018-11-01   Drama, Mystery, Thriller        98        Mexico   \n",
       "54352     2009-07-02                     Comedy        97           USA   \n",
       "13006     1967-10-31                    Western       109  Italy, Spain   \n",
       "\n",
       "               language             director  ...  \\\n",
       "17366           English           Dan Curtis  ...   \n",
       "751             English  William C. de Mille  ...   \n",
       "82618  Spanish, English    Lorena Villarreal  ...   \n",
       "54352           English          Ryan Gielen  ...   \n",
       "13006           Italian     Giuseppe Colizzi  ...   \n",
       "\n",
       "                                                  actors  \\\n",
       "17366  Karen Black, Oliver Reed, Burgess Meredith, Ei...   \n",
       "751    Conrad Nagel, Bessie Love, Leila Hyams, Robert...   \n",
       "82618  Novak Ricardo Cañamar, Anna Cetti, Michel Chau...   \n",
       "54352  Rob Bradford, Blake Merriman, Nick Vergara, Mi...   \n",
       "13006  Terence Hill, Frank Wolff, Bud Spencer, Gina R...   \n",
       "\n",
       "                                             description avg_vote votes  \\\n",
       "17366  A family moves into a large old mansion that s...      6.5  9463   \n",
       "751    Millionaire William van Luyn falls in love wit...      5.9   118   \n",
       "82618  In order to save her son's life, Ana embarks o...      4.9   239   \n",
       "54352  Four friends head to Senior Week in Ocean City...      4.5   406   \n",
       "13006  After a train is robbed of its payroll, an ins...      6.4  3931   \n",
       "\n",
       "         budget  usa_gross_income worlwide_gross_income metascore  \\\n",
       "17366       NaN               NaN                   NaN      48.0   \n",
       "751         NaN               NaN                   NaN       NaN   \n",
       "82618       NaN          $ 158723              $ 338596      29.0   \n",
       "54352  $ 150000               NaN                   NaN       NaN   \n",
       "13006       NaN               NaN                   NaN       NaN   \n",
       "\n",
       "      reviews_from_users  reviews_from_critics  \n",
       "17366              143.0                  82.0  \n",
       "751                  6.0                   2.0  \n",
       "82618                9.0                  19.0  \n",
       "54352                9.0                  24.0  \n",
       "13006               17.0                   9.0  \n",
       "\n",
       "[5 rows x 22 columns]"
      ]
     },
     "execution_count": 2,
     "metadata": {},
     "output_type": "execute_result"
    }
   ],
   "source": [
    "# data set source: https://www.kaggle.com/stefanoleone992/imdb-extensive-dataset\n",
    "movies_df = pd.read_csv('./data/IMDb_movies.csv'\n",
    "                        , low_memory = False\n",
    "                       )\n",
    "movies_df.sample(5)"
   ]
  },
  {
   "cell_type": "code",
   "execution_count": 3,
   "metadata": {},
   "outputs": [
    {
     "data": {
      "text/plain": [
       "(85855, 22)"
      ]
     },
     "execution_count": 3,
     "metadata": {},
     "output_type": "execute_result"
    }
   ],
   "source": [
    "movies_df.shape"
   ]
  },
  {
   "cell_type": "code",
   "execution_count": 4,
   "metadata": {
    "scrolled": true
   },
   "outputs": [
    {
     "name": "stdout",
     "output_type": "stream",
     "text": [
      "imdb_title_id\n",
      "title\n",
      "original_title\n",
      "year\n",
      "date_published\n",
      "genre\n",
      "duration\n",
      "country\n",
      "language\n",
      "director\n",
      "writer\n",
      "production_company\n",
      "actors\n",
      "description\n",
      "avg_vote\n",
      "votes\n",
      "budget\n",
      "usa_gross_income\n",
      "worlwide_gross_income\n",
      "metascore\n",
      "reviews_from_users\n",
      "reviews_from_critics\n"
     ]
    }
   ],
   "source": [
    "for x in movies_df.columns:\n",
    "    print(x)"
   ]
  },
  {
   "cell_type": "code",
   "execution_count": 5,
   "metadata": {},
   "outputs": [
    {
     "data": {
      "text/plain": [
       "'Blanche Bayliss, William Courtenay, Chauncey Depew'"
      ]
     },
     "execution_count": 5,
     "metadata": {},
     "output_type": "execute_result"
    }
   ],
   "source": [
    "movies_df.actors.iloc[0]"
   ]
  },
  {
   "cell_type": "code",
   "execution_count": 6,
   "metadata": {},
   "outputs": [
    {
     "data": {
      "text/plain": [
       "nan"
      ]
     },
     "execution_count": 6,
     "metadata": {},
     "output_type": "execute_result"
    }
   ],
   "source": [
    "movies_df.metascore.iloc[0]"
   ]
  },
  {
   "cell_type": "code",
   "execution_count": 7,
   "metadata": {},
   "outputs": [
    {
     "data": {
      "text/plain": [
       "1.0"
      ]
     },
     "execution_count": 7,
     "metadata": {},
     "output_type": "execute_result"
    }
   ],
   "source": [
    "movies_df.reviews_from_users.iloc[0]"
   ]
  },
  {
   "cell_type": "code",
   "execution_count": 8,
   "metadata": {},
   "outputs": [
    {
     "data": {
      "text/plain": [
       "2.0"
      ]
     },
     "execution_count": 8,
     "metadata": {},
     "output_type": "execute_result"
    }
   ],
   "source": [
    "movies_df.reviews_from_critics.iloc[0]"
   ]
  },
  {
   "cell_type": "code",
   "execution_count": 9,
   "metadata": {},
   "outputs": [
    {
     "data": {
      "text/plain": [
       "imdb_title_id                0\n",
       "title                        0\n",
       "original_title               0\n",
       "year                         0\n",
       "date_published               0\n",
       "genre                        0\n",
       "duration                     0\n",
       "country                     64\n",
       "language                   833\n",
       "director                    87\n",
       "writer                    1572\n",
       "production_company        4455\n",
       "actors                      69\n",
       "description               2115\n",
       "avg_vote                     0\n",
       "votes                        0\n",
       "budget                   62145\n",
       "usa_gross_income         70529\n",
       "worlwide_gross_income    54839\n",
       "metascore                72550\n",
       "reviews_from_users        7597\n",
       "reviews_from_critics     11797\n",
       "dtype: int64"
      ]
     },
     "execution_count": 9,
     "metadata": {},
     "output_type": "execute_result"
    }
   ],
   "source": [
    "movies_df.isna().sum()"
   ]
  },
  {
   "cell_type": "code",
   "execution_count": 10,
   "metadata": {},
   "outputs": [
    {
     "data": {
      "text/plain": [
       "(9.9, 1.0)"
      ]
     },
     "execution_count": 10,
     "metadata": {},
     "output_type": "execute_result"
    }
   ],
   "source": [
    "movies_df.avg_vote.max(), movies_df.avg_vote.min()"
   ]
  },
  {
   "cell_type": "code",
   "execution_count": 11,
   "metadata": {},
   "outputs": [
    {
     "data": {
      "text/plain": [
       "5.9"
      ]
     },
     "execution_count": 11,
     "metadata": {},
     "output_type": "execute_result"
    }
   ],
   "source": [
    "movies_df.avg_vote.iloc[0]"
   ]
  },
  {
   "cell_type": "code",
   "execution_count": 12,
   "metadata": {},
   "outputs": [
    {
     "data": {
      "text/plain": [
       "(9.9, 1.0)"
      ]
     },
     "execution_count": 12,
     "metadata": {},
     "output_type": "execute_result"
    }
   ],
   "source": [
    "movies_df.avg_vote.max(), movies_df.avg_vote.min()"
   ]
  },
  {
   "cell_type": "code",
   "execution_count": 13,
   "metadata": {},
   "outputs": [
    {
     "data": {
      "text/plain": [
       "154"
      ]
     },
     "execution_count": 13,
     "metadata": {},
     "output_type": "execute_result"
    }
   ],
   "source": [
    "movies_df.votes.iloc[0]"
   ]
  },
  {
   "cell_type": "code",
   "execution_count": 14,
   "metadata": {},
   "outputs": [],
   "source": [
    "actor_movie_df = movies_df[['actors', 'title', 'avg_vote']].copy()"
   ]
  },
  {
   "cell_type": "code",
   "execution_count": 15,
   "metadata": {},
   "outputs": [
    {
     "data": {
      "text/html": [
       "<div>\n",
       "<style scoped>\n",
       "    .dataframe tbody tr th:only-of-type {\n",
       "        vertical-align: middle;\n",
       "    }\n",
       "\n",
       "    .dataframe tbody tr th {\n",
       "        vertical-align: top;\n",
       "    }\n",
       "\n",
       "    .dataframe thead th {\n",
       "        text-align: right;\n",
       "    }\n",
       "</style>\n",
       "<table border=\"1\" class=\"dataframe\">\n",
       "  <thead>\n",
       "    <tr style=\"text-align: right;\">\n",
       "      <th></th>\n",
       "      <th>actors</th>\n",
       "      <th>title</th>\n",
       "      <th>avg_vote</th>\n",
       "    </tr>\n",
       "  </thead>\n",
       "  <tbody>\n",
       "    <tr>\n",
       "      <th>0</th>\n",
       "      <td>Blanche Bayliss, William Courtenay, Chauncey D...</td>\n",
       "      <td>Miss Jerry</td>\n",
       "      <td>5.9</td>\n",
       "    </tr>\n",
       "    <tr>\n",
       "      <th>1</th>\n",
       "      <td>Elizabeth Tait, John Tait, Norman Campbell, Be...</td>\n",
       "      <td>The Story of the Kelly Gang</td>\n",
       "      <td>6.1</td>\n",
       "    </tr>\n",
       "    <tr>\n",
       "      <th>2</th>\n",
       "      <td>Asta Nielsen, Valdemar Psilander, Gunnar Helse...</td>\n",
       "      <td>Den sorte drøm</td>\n",
       "      <td>5.8</td>\n",
       "    </tr>\n",
       "    <tr>\n",
       "      <th>3</th>\n",
       "      <td>Helen Gardner, Pearl Sindelar, Miss Fielding, ...</td>\n",
       "      <td>Cleopatra</td>\n",
       "      <td>5.2</td>\n",
       "    </tr>\n",
       "    <tr>\n",
       "      <th>4</th>\n",
       "      <td>Salvatore Papa, Arturo Pirovano, Giuseppe de L...</td>\n",
       "      <td>L'Inferno</td>\n",
       "      <td>7.0</td>\n",
       "    </tr>\n",
       "  </tbody>\n",
       "</table>\n",
       "</div>"
      ],
      "text/plain": [
       "                                              actors  \\\n",
       "0  Blanche Bayliss, William Courtenay, Chauncey D...   \n",
       "1  Elizabeth Tait, John Tait, Norman Campbell, Be...   \n",
       "2  Asta Nielsen, Valdemar Psilander, Gunnar Helse...   \n",
       "3  Helen Gardner, Pearl Sindelar, Miss Fielding, ...   \n",
       "4  Salvatore Papa, Arturo Pirovano, Giuseppe de L...   \n",
       "\n",
       "                         title  avg_vote  \n",
       "0                   Miss Jerry       5.9  \n",
       "1  The Story of the Kelly Gang       6.1  \n",
       "2               Den sorte drøm       5.8  \n",
       "3                    Cleopatra       5.2  \n",
       "4                    L'Inferno       7.0  "
      ]
     },
     "execution_count": 15,
     "metadata": {},
     "output_type": "execute_result"
    }
   ],
   "source": [
    "actor_movie_df.head()"
   ]
  },
  {
   "cell_type": "code",
   "execution_count": 16,
   "metadata": {},
   "outputs": [
    {
     "data": {
      "text/html": [
       "<div>\n",
       "<style scoped>\n",
       "    .dataframe tbody tr th:only-of-type {\n",
       "        vertical-align: middle;\n",
       "    }\n",
       "\n",
       "    .dataframe tbody tr th {\n",
       "        vertical-align: top;\n",
       "    }\n",
       "\n",
       "    .dataframe thead th {\n",
       "        text-align: right;\n",
       "    }\n",
       "</style>\n",
       "<table border=\"1\" class=\"dataframe\">\n",
       "  <thead>\n",
       "    <tr style=\"text-align: right;\">\n",
       "      <th></th>\n",
       "      <th>actors</th>\n",
       "      <th>title</th>\n",
       "      <th>avg_vote</th>\n",
       "    </tr>\n",
       "  </thead>\n",
       "  <tbody>\n",
       "    <tr>\n",
       "      <th>0</th>\n",
       "      <td>Blanche Bayliss</td>\n",
       "      <td>Miss Jerry</td>\n",
       "      <td>5.9</td>\n",
       "    </tr>\n",
       "    <tr>\n",
       "      <th>1</th>\n",
       "      <td>William Courtenay</td>\n",
       "      <td>Miss Jerry</td>\n",
       "      <td>5.9</td>\n",
       "    </tr>\n",
       "    <tr>\n",
       "      <th>2</th>\n",
       "      <td>Chauncey Depew</td>\n",
       "      <td>Miss Jerry</td>\n",
       "      <td>5.9</td>\n",
       "    </tr>\n",
       "    <tr>\n",
       "      <th>3</th>\n",
       "      <td>Elizabeth Tait</td>\n",
       "      <td>The Story of the Kelly Gang</td>\n",
       "      <td>6.1</td>\n",
       "    </tr>\n",
       "    <tr>\n",
       "      <th>4</th>\n",
       "      <td>John Tait</td>\n",
       "      <td>The Story of the Kelly Gang</td>\n",
       "      <td>6.1</td>\n",
       "    </tr>\n",
       "    <tr>\n",
       "      <th>5</th>\n",
       "      <td>Norman Campbell</td>\n",
       "      <td>The Story of the Kelly Gang</td>\n",
       "      <td>6.1</td>\n",
       "    </tr>\n",
       "    <tr>\n",
       "      <th>6</th>\n",
       "      <td>Bella Cola</td>\n",
       "      <td>The Story of the Kelly Gang</td>\n",
       "      <td>6.1</td>\n",
       "    </tr>\n",
       "    <tr>\n",
       "      <th>7</th>\n",
       "      <td>Will Coyne</td>\n",
       "      <td>The Story of the Kelly Gang</td>\n",
       "      <td>6.1</td>\n",
       "    </tr>\n",
       "    <tr>\n",
       "      <th>8</th>\n",
       "      <td>Sam Crewes</td>\n",
       "      <td>The Story of the Kelly Gang</td>\n",
       "      <td>6.1</td>\n",
       "    </tr>\n",
       "    <tr>\n",
       "      <th>9</th>\n",
       "      <td>Jack Ennis</td>\n",
       "      <td>The Story of the Kelly Gang</td>\n",
       "      <td>6.1</td>\n",
       "    </tr>\n",
       "  </tbody>\n",
       "</table>\n",
       "</div>"
      ],
      "text/plain": [
       "              actors                        title  avg_vote\n",
       "0    Blanche Bayliss                   Miss Jerry       5.9\n",
       "1  William Courtenay                   Miss Jerry       5.9\n",
       "2     Chauncey Depew                   Miss Jerry       5.9\n",
       "3     Elizabeth Tait  The Story of the Kelly Gang       6.1\n",
       "4          John Tait  The Story of the Kelly Gang       6.1\n",
       "5    Norman Campbell  The Story of the Kelly Gang       6.1\n",
       "6         Bella Cola  The Story of the Kelly Gang       6.1\n",
       "7         Will Coyne  The Story of the Kelly Gang       6.1\n",
       "8         Sam Crewes  The Story of the Kelly Gang       6.1\n",
       "9         Jack Ennis  The Story of the Kelly Gang       6.1"
      ]
     },
     "execution_count": 16,
     "metadata": {},
     "output_type": "execute_result"
    }
   ],
   "source": [
    "actor_movie_df = actor_movie_df.assign(actors=actor_movie_df.actors.str.split(', ')).explode('actors').reset_index()\n",
    "actor_movie_df.drop('index', axis=1, inplace=True)\n",
    "actor_movie_df.head(10)"
   ]
  },
  {
   "cell_type": "code",
   "execution_count": 17,
   "metadata": {},
   "outputs": [
    {
     "data": {
      "text/plain": [
       "(1155362, 3)"
      ]
     },
     "execution_count": 17,
     "metadata": {},
     "output_type": "execute_result"
    }
   ],
   "source": [
    "# Data set too large for pivot table, use neural networks\n",
    "actor_movie_df.shape"
   ]
  },
  {
   "cell_type": "code",
   "execution_count": 18,
   "metadata": {},
   "outputs": [
    {
     "name": "stdout",
     "output_type": "stream",
     "text": [
      "Actors: 417321\n",
      "Movies: 82094\n",
      "Min Vote: 1.0\n",
      "Max Vote: 9.9\n"
     ]
    }
   ],
   "source": [
    "# encoding...\n",
    "actor_ids = actor_movie_df['actors'].unique().tolist()\n",
    "actor2actor_encoded = {x: i for i, x in enumerate(actor_ids)}\n",
    "actor_encoded2actor = {i: x for i, x in enumerate(actor_ids)}\n",
    "\n",
    "movie_ids = actor_movie_df['title'].unique().tolist()\n",
    "movie2movie_encoded = {x: i for i, x in enumerate(movie_ids)}\n",
    "movie_encoded2movie = {i: x for i, x in enumerate(movie_ids)}\n",
    "\n",
    "actor_movie_df['actors'] = actor_movie_df['actors'].map(actor2actor_encoded)\n",
    "actor_movie_df['title'] = actor_movie_df['title'].map(movie2movie_encoded)\n",
    "\n",
    "num_actors = len(actor2actor_encoded)\n",
    "num_movies = len(movie2movie_encoded)\n",
    "\n",
    "actor_movie_df['avg_vote'] = actor_movie_df['avg_vote'].values.astype(np.float32)\n",
    "\n",
    "min_vote = min(actor_movie_df['avg_vote'])\n",
    "max_vote = max(actor_movie_df['avg_vote'])\n",
    "\n",
    "print(f'Actors: {num_actors}\\nMovies: {num_movies}\\nMin Vote: {min_vote}\\nMax Vote: {round(max_vote, 1)}')"
   ]
  },
  {
   "cell_type": "code",
   "execution_count": 19,
   "metadata": {},
   "outputs": [],
   "source": [
    "# prepare training and valdiation data\n",
    "from random import shuffle\n",
    "idx_lst = [x for x in range(0, actor_movie_df.shape[0])]\n",
    "shuffle(idx_lst)\n",
    "actor_movie_df = actor_movie_df.iloc[idx_lst]"
   ]
  },
  {
   "cell_type": "code",
   "execution_count": 20,
   "metadata": {},
   "outputs": [
    {
     "data": {
      "text/html": [
       "<div>\n",
       "<style scoped>\n",
       "    .dataframe tbody tr th:only-of-type {\n",
       "        vertical-align: middle;\n",
       "    }\n",
       "\n",
       "    .dataframe tbody tr th {\n",
       "        vertical-align: top;\n",
       "    }\n",
       "\n",
       "    .dataframe thead th {\n",
       "        text-align: right;\n",
       "    }\n",
       "</style>\n",
       "<table border=\"1\" class=\"dataframe\">\n",
       "  <thead>\n",
       "    <tr style=\"text-align: right;\">\n",
       "      <th></th>\n",
       "      <th>actors</th>\n",
       "      <th>title</th>\n",
       "      <th>avg_vote</th>\n",
       "    </tr>\n",
       "  </thead>\n",
       "  <tbody>\n",
       "    <tr>\n",
       "      <th>551832</th>\n",
       "      <td>187092</td>\n",
       "      <td>39581</td>\n",
       "      <td>6.0</td>\n",
       "    </tr>\n",
       "    <tr>\n",
       "      <th>86204</th>\n",
       "      <td>12376</td>\n",
       "      <td>6978</td>\n",
       "      <td>5.9</td>\n",
       "    </tr>\n",
       "    <tr>\n",
       "      <th>433363</th>\n",
       "      <td>144329</td>\n",
       "      <td>31243</td>\n",
       "      <td>6.7</td>\n",
       "    </tr>\n",
       "    <tr>\n",
       "      <th>324632</th>\n",
       "      <td>56523</td>\n",
       "      <td>23906</td>\n",
       "      <td>5.1</td>\n",
       "    </tr>\n",
       "    <tr>\n",
       "      <th>350077</th>\n",
       "      <td>63762</td>\n",
       "      <td>25615</td>\n",
       "      <td>5.2</td>\n",
       "    </tr>\n",
       "  </tbody>\n",
       "</table>\n",
       "</div>"
      ],
      "text/plain": [
       "        actors  title  avg_vote\n",
       "551832  187092  39581       6.0\n",
       "86204    12376   6978       5.9\n",
       "433363  144329  31243       6.7\n",
       "324632   56523  23906       5.1\n",
       "350077   63762  25615       5.2"
      ]
     },
     "execution_count": 20,
     "metadata": {},
     "output_type": "execute_result"
    }
   ],
   "source": [
    "actor_movie_df.head()"
   ]
  },
  {
   "cell_type": "code",
   "execution_count": 21,
   "metadata": {},
   "outputs": [],
   "source": [
    "x = actor_movie_df[['actors', 'title']].values\n",
    "y = actor_movie_df['avg_vote'].apply(lambda x: (x - min_vote)/(max_vote - min_vote))"
   ]
  },
  {
   "cell_type": "code",
   "execution_count": 22,
   "metadata": {},
   "outputs": [],
   "source": [
    "train_indices = int(0.9 * actor_movie_df.shape[0])\n",
    "X_train, X_test, y_train, y_test = (x[:train_indices]\n",
    "                                    , x[train_indices:]\n",
    "                                    , y[:train_indices]\n",
    "                                    , y[train_indices:]\n",
    "                                   )"
   ]
  },
  {
   "cell_type": "code",
   "execution_count": 23,
   "metadata": {},
   "outputs": [],
   "source": [
    "EMBEDDING_SIZE = 50\n",
    "\n",
    "\n",
    "class RecommenderNet(keras.Model):\n",
    "    def __init__(self, num_actors, num_movies, embedding_size, **kwargs):\n",
    "        super(RecommenderNet, self).__init__(**kwargs)\n",
    "        self.num_actors = num_actors\n",
    "        self.num_movies = num_movies\n",
    "        self.embedding_size = embedding_size\n",
    "        \n",
    "        self.actor_embedding = layers.Embedding(num_actors\n",
    "                                               , embedding_size\n",
    "                                               , embeddings_initializer=\"he_normal\"\n",
    "                                               , embeddings_regularizer=keras.regularizers.l2(1e-6)\n",
    "                                              )\n",
    "        self.actor_bias = layers.Embedding(num_actors, 1)\n",
    "        \n",
    "        self.movie_embedding = layers.Embedding(num_movies\n",
    "                                                , embedding_size\n",
    "                                                , embeddings_initializer=\"he_normal\"\n",
    "                                                , embeddings_regularizer=keras.regularizers.l2(1e-6)\n",
    "                                               )\n",
    "        self.movie_bias = layers.Embedding(num_movies, 1)\n",
    "\n",
    "    def call(self, inputs):\n",
    "        actor_vector = self.actor_embedding(inputs[:, 0])\n",
    "        actor_bias = self.actor_bias(inputs[:, 0])\n",
    "        movie_vector = self.movie_embedding(inputs[:, 1])\n",
    "        movie_bias = self.movie_bias(inputs[:, 1])\n",
    "        \n",
    "        dot_actor_movie = tf.tensordot(actor_vector, movie_vector, 2)\n",
    "        # Add all the components (including bias)\n",
    "        x = dot_actor_movie + actor_bias + movie_bias\n",
    "        # The sigmoid activation forces the rating to between 0 and 1\n",
    "        return tf.nn.sigmoid(x)\n",
    "\n",
    "\n",
    "model = RecommenderNet(num_actors\n",
    "                       , num_movies\n",
    "                       , EMBEDDING_SIZE\n",
    "                      )\n",
    "\n",
    "model.compile(loss=tf.keras.losses.BinaryCrossentropy()\n",
    "              , optimizer=keras.optimizers.Adam(lr=0.001)\n",
    "             )"
   ]
  },
  {
   "cell_type": "markdown",
   "metadata": {},
   "source": [
    "### GPU"
   ]
  },
  {
   "cell_type": "code",
   "execution_count": 25,
   "metadata": {},
   "outputs": [
    {
     "name": "stdout",
     "output_type": "stream",
     "text": [
      "[name: \"/device:CPU:0\"\n",
      "device_type: \"CPU\"\n",
      "memory_limit: 268435456\n",
      "locality {\n",
      "}\n",
      "incarnation: 10808396415602164395\n",
      ", name: \"/device:XLA_CPU:0\"\n",
      "device_type: \"XLA_CPU\"\n",
      "memory_limit: 17179869184\n",
      "locality {\n",
      "}\n",
      "incarnation: 10023215058000600851\n",
      "physical_device_desc: \"device: XLA_CPU device\"\n",
      ", name: \"/device:XLA_GPU:0\"\n",
      "device_type: \"XLA_GPU\"\n",
      "memory_limit: 17179869184\n",
      "locality {\n",
      "}\n",
      "incarnation: 13209569550599845270\n",
      "physical_device_desc: \"device: XLA_GPU device\"\n",
      "]\n"
     ]
    }
   ],
   "source": [
    "from tensorflow.python.client import device_lib\n",
    "print(device_lib.list_local_devices())"
   ]
  },
  {
   "cell_type": "code",
   "execution_count": null,
   "metadata": {},
   "outputs": [],
   "source": []
  },
  {
   "cell_type": "code",
   "execution_count": 27,
   "metadata": {},
   "outputs": [
    {
     "name": "stdout",
     "output_type": "stream",
     "text": [
      "Epoch 1/5\n",
      "2031/2031 [==============================] - 247s 122ms/step - loss: 2.7971 - val_loss: 1.3520\n",
      "Epoch 2/5\n",
      "2031/2031 [==============================] - 248s 122ms/step - loss: 1.8222 - val_loss: 0.8406\n",
      "Epoch 3/5\n",
      "2031/2031 [==============================] - 248s 122ms/step - loss: 1.3330 - val_loss: 1.0524\n",
      "Epoch 4/5\n",
      "2031/2031 [==============================] - 249s 123ms/step - loss: 1.8767 - val_loss: 1.6485\n",
      "Epoch 5/5\n",
      "2031/2031 [==============================] - 250s 123ms/step - loss: 3.1941 - val_loss: 2.7224\n"
     ]
    }
   ],
   "source": [
    "history = model.fit(x=X_train\n",
    "                    , y=y_train\n",
    "                    , batch_size=256\n",
    "                    , epochs=5\n",
    "                    , verbose=1\n",
    "                    , validation_data=(X_test, y_test)\n",
    "                   )"
   ]
  },
  {
   "cell_type": "code",
   "execution_count": 28,
   "metadata": {},
   "outputs": [
    {
     "data": {
      "image/png": "[encoded data removed]",
      "text/plain": [
       "<Figure size 432x288 with 1 Axes>"
      ]
     },
     "metadata": {},
     "output_type": "display_data"
    }
   ],
   "source": [
    "plt.plot(history.history[\"loss\"])\n",
    "plt.plot(history.history[\"val_loss\"])\n",
    "plt.title(\"model loss\")\n",
    "plt.ylabel(\"loss\")\n",
    "plt.xlabel(\"epoch\")\n",
    "plt.legend([\"train\", \"test\"], loc=\"upper left\")\n",
    "plt.show()"
   ]
  },
  {
   "cell_type": "code",
   "execution_count": null,
   "metadata": {},
   "outputs": [],
   "source": []
  },
  {
   "cell_type": "code",
   "execution_count": null,
   "metadata": {},
   "outputs": [],
   "source": []
  },
  {
   "cell_type": "code",
   "execution_count": null,
   "metadata": {},
   "outputs": [],
   "source": []
  },
  {
   "cell_type": "code",
   "execution_count": null,
   "metadata": {},
   "outputs": [],
   "source": []
  },
  {
   "cell_type": "code",
   "execution_count": null,
   "metadata": {},
   "outputs": [],
   "source": []
  },
  {
   "cell_type": "code",
   "execution_count": null,
   "metadata": {},
   "outputs": [],
   "source": []
  },
  {
   "cell_type": "code",
   "execution_count": null,
   "metadata": {},
   "outputs": [],
   "source": []
  },
  {
   "cell_type": "code",
   "execution_count": null,
   "metadata": {},
   "outputs": [],
   "source": []
  },
  {
   "cell_type": "code",
   "execution_count": 29,
   "metadata": {},
   "outputs": [
    {
     "data": {
      "text/html": [
       "<div>\n",
       "<style scoped>\n",
       "    .dataframe tbody tr th:only-of-type {\n",
       "        vertical-align: middle;\n",
       "    }\n",
       "\n",
       "    .dataframe tbody tr th {\n",
       "        vertical-align: top;\n",
       "    }\n",
       "\n",
       "    .dataframe thead th {\n",
       "        text-align: right;\n",
       "    }\n",
       "</style>\n",
       "<table border=\"1\" class=\"dataframe\">\n",
       "  <thead>\n",
       "    <tr style=\"text-align: right;\">\n",
       "      <th></th>\n",
       "      <th>imdb_name_id</th>\n",
       "      <th>name</th>\n",
       "      <th>birth_name</th>\n",
       "      <th>height</th>\n",
       "      <th>bio</th>\n",
       "      <th>birth_details</th>\n",
       "      <th>date_of_birth</th>\n",
       "      <th>place_of_birth</th>\n",
       "      <th>death_details</th>\n",
       "      <th>date_of_death</th>\n",
       "      <th>place_of_death</th>\n",
       "      <th>reason_of_death</th>\n",
       "      <th>spouses_string</th>\n",
       "      <th>spouses</th>\n",
       "      <th>divorces</th>\n",
       "      <th>spouses_with_children</th>\n",
       "      <th>children</th>\n",
       "    </tr>\n",
       "  </thead>\n",
       "  <tbody>\n",
       "    <tr>\n",
       "      <th>118156</th>\n",
       "      <td>nm0803162</td>\n",
       "      <td>William Sistrom</td>\n",
       "      <td>William Sistrom</td>\n",
       "      <td>NaN</td>\n",
       "      <td>NaN</td>\n",
       "      <td>March 19, 1884 in Lincolnshire, England, UK</td>\n",
       "      <td>1884-03-19</td>\n",
       "      <td>Lincolnshire, England, UK</td>\n",
       "      <td>March 13, 1972 in Phoenix, Arizona, USA</td>\n",
       "      <td>1972-03-13</td>\n",
       "      <td>Phoenix, Arizona, USA</td>\n",
       "      <td>NaN</td>\n",
       "      <td>NaN</td>\n",
       "      <td>0</td>\n",
       "      <td>0</td>\n",
       "      <td>0</td>\n",
       "      <td>0</td>\n",
       "    </tr>\n",
       "    <tr>\n",
       "      <th>251504</th>\n",
       "      <td>nm5310225</td>\n",
       "      <td>Sophie Skelton</td>\n",
       "      <td>Sophie Skelton</td>\n",
       "      <td>170.0</td>\n",
       "      <td>Sophie Alexandra Skelton was born and raised i...</td>\n",
       "      <td>NaN</td>\n",
       "      <td>NaN</td>\n",
       "      <td>NaN</td>\n",
       "      <td>NaN</td>\n",
       "      <td>NaN</td>\n",
       "      <td>NaN</td>\n",
       "      <td>NaN</td>\n",
       "      <td>NaN</td>\n",
       "      <td>0</td>\n",
       "      <td>0</td>\n",
       "      <td>0</td>\n",
       "      <td>0</td>\n",
       "    </tr>\n",
       "    <tr>\n",
       "      <th>268000</th>\n",
       "      <td>nm7013850</td>\n",
       "      <td>Sahar El Sayegh</td>\n",
       "      <td>Sahar El Sayegh</td>\n",
       "      <td>NaN</td>\n",
       "      <td>Sahar El Sayegh was born on January 1, 1990 in...</td>\n",
       "      <td>January 1, 1990 in Cairo, Egypt</td>\n",
       "      <td>1990-01-01</td>\n",
       "      <td>Cairo, Egypt</td>\n",
       "      <td>NaN</td>\n",
       "      <td>NaN</td>\n",
       "      <td>NaN</td>\n",
       "      <td>NaN</td>\n",
       "      <td>NaN</td>\n",
       "      <td>0</td>\n",
       "      <td>0</td>\n",
       "      <td>0</td>\n",
       "      <td>0</td>\n",
       "    </tr>\n",
       "    <tr>\n",
       "      <th>14360</th>\n",
       "      <td>nm0067126</td>\n",
       "      <td>Katerina Bei</td>\n",
       "      <td>Katerina Bei</td>\n",
       "      <td>NaN</td>\n",
       "      <td>Katerina Bei is a writer and actress, known fo...</td>\n",
       "      <td>NaN</td>\n",
       "      <td>NaN</td>\n",
       "      <td>NaN</td>\n",
       "      <td>NaN</td>\n",
       "      <td>NaN</td>\n",
       "      <td>NaN</td>\n",
       "      <td>NaN</td>\n",
       "      <td>NaN</td>\n",
       "      <td>0</td>\n",
       "      <td>0</td>\n",
       "      <td>0</td>\n",
       "      <td>0</td>\n",
       "    </tr>\n",
       "    <tr>\n",
       "      <th>221812</th>\n",
       "      <td>nm2989840</td>\n",
       "      <td>Shawn Thomas Diefenbach</td>\n",
       "      <td>Shawn Thomas Diefenbach</td>\n",
       "      <td>185.0</td>\n",
       "      <td>Born in Massachusetts, Shawn grew up between t...</td>\n",
       "      <td>January 25, 1985 in Springfield, Massachusetts...</td>\n",
       "      <td>1985-01-25</td>\n",
       "      <td>Springfield, Massachusetts, USA</td>\n",
       "      <td>NaN</td>\n",
       "      <td>NaN</td>\n",
       "      <td>NaN</td>\n",
       "      <td>NaN</td>\n",
       "      <td>NaN</td>\n",
       "      <td>0</td>\n",
       "      <td>0</td>\n",
       "      <td>0</td>\n",
       "      <td>0</td>\n",
       "    </tr>\n",
       "  </tbody>\n",
       "</table>\n",
       "</div>"
      ],
      "text/plain": [
       "       imdb_name_id                     name               birth_name  height  \\\n",
       "118156    nm0803162          William Sistrom          William Sistrom     NaN   \n",
       "251504    nm5310225           Sophie Skelton           Sophie Skelton   170.0   \n",
       "268000    nm7013850          Sahar El Sayegh          Sahar El Sayegh     NaN   \n",
       "14360     nm0067126             Katerina Bei             Katerina Bei     NaN   \n",
       "221812    nm2989840  Shawn Thomas Diefenbach  Shawn Thomas Diefenbach   185.0   \n",
       "\n",
       "                                                      bio  \\\n",
       "118156                                                NaN   \n",
       "251504  Sophie Alexandra Skelton was born and raised i...   \n",
       "268000  Sahar El Sayegh was born on January 1, 1990 in...   \n",
       "14360   Katerina Bei is a writer and actress, known fo...   \n",
       "221812  Born in Massachusetts, Shawn grew up between t...   \n",
       "\n",
       "                                            birth_details date_of_birth  \\\n",
       "118156        March 19, 1884 in Lincolnshire, England, UK    1884-03-19   \n",
       "251504                                                NaN           NaN   \n",
       "268000                    January 1, 1990 in Cairo, Egypt    1990-01-01   \n",
       "14360                                                 NaN           NaN   \n",
       "221812  January 25, 1985 in Springfield, Massachusetts...    1985-01-25   \n",
       "\n",
       "                         place_of_birth  \\\n",
       "118156        Lincolnshire, England, UK   \n",
       "251504                              NaN   \n",
       "268000                     Cairo, Egypt   \n",
       "14360                               NaN   \n",
       "221812  Springfield, Massachusetts, USA   \n",
       "\n",
       "                                  death_details date_of_death  \\\n",
       "118156  March 13, 1972 in Phoenix, Arizona, USA    1972-03-13   \n",
       "251504                                      NaN           NaN   \n",
       "268000                                      NaN           NaN   \n",
       "14360                                       NaN           NaN   \n",
       "221812                                      NaN           NaN   \n",
       "\n",
       "               place_of_death reason_of_death spouses_string  spouses  \\\n",
       "118156  Phoenix, Arizona, USA             NaN            NaN        0   \n",
       "251504                    NaN             NaN            NaN        0   \n",
       "268000                    NaN             NaN            NaN        0   \n",
       "14360                     NaN             NaN            NaN        0   \n",
       "221812                    NaN             NaN            NaN        0   \n",
       "\n",
       "        divorces  spouses_with_children  children  \n",
       "118156         0                      0         0  \n",
       "251504         0                      0         0  \n",
       "268000         0                      0         0  \n",
       "14360          0                      0         0  \n",
       "221812         0                      0         0  "
      ]
     },
     "execution_count": 29,
     "metadata": {},
     "output_type": "execute_result"
    }
   ],
   "source": [
    "names_df = pd.read_csv('./data/IMDb_names.csv'\n",
    "                       , low_memory = False\n",
    "                      )\n",
    "names_df.sample(5)"
   ]
  },
  {
   "cell_type": "code",
   "execution_count": null,
   "metadata": {},
   "outputs": [],
   "source": []
  },
  {
   "cell_type": "code",
   "execution_count": null,
   "metadata": {},
   "outputs": [],
   "source": []
  }
 ],
 "metadata": {
  "kernelspec": {
   "display_name": "Python 3",
   "language": "python",
   "name": "python3"
  },
  "language_info": {
   "codemirror_mode": {
    "name": "ipython",
    "version": 3
   },
   "file_extension": ".py",
   "mimetype": "text/x-python",
   "name": "python",
   "nbconvert_exporter": "python",
   "pygments_lexer": "ipython3",
   "version": "3.8.5"
  }
 },
 "nbformat": 4,
 "nbformat_minor": 4
}
